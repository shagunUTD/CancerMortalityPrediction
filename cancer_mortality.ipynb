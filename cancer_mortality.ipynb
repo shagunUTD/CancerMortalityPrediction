{
 "cells": [
  {
   "cell_type": "code",
   "execution_count": 44,
   "id": "f3ed4d6c",
   "metadata": {},
   "outputs": [],
   "source": [
    "import pandas as pd"
   ]
  },
  {
   "cell_type": "code",
   "execution_count": 46,
   "id": "f31c73a4",
   "metadata": {},
   "outputs": [
    {
     "data": {
      "text/html": [
       "<div>\n",
       "<style scoped>\n",
       "    .dataframe tbody tr th:only-of-type {\n",
       "        vertical-align: middle;\n",
       "    }\n",
       "\n",
       "    .dataframe tbody tr th {\n",
       "        vertical-align: top;\n",
       "    }\n",
       "\n",
       "    .dataframe thead th {\n",
       "        text-align: right;\n",
       "    }\n",
       "</style>\n",
       "<table border=\"1\" class=\"dataframe\">\n",
       "  <thead>\n",
       "    <tr style=\"text-align: right;\">\n",
       "      <th></th>\n",
       "      <th>avgAnnCount</th>\n",
       "      <th>avgDeathsPerYear</th>\n",
       "      <th>TARGET_deathRate</th>\n",
       "      <th>incidenceRate</th>\n",
       "      <th>medIncome</th>\n",
       "      <th>popEst2015</th>\n",
       "      <th>povertyPercent</th>\n",
       "      <th>studyPerCap</th>\n",
       "      <th>binnedInc</th>\n",
       "      <th>MedianAge</th>\n",
       "      <th>...</th>\n",
       "      <th>PctPrivateCoverageAlone</th>\n",
       "      <th>PctEmpPrivCoverage</th>\n",
       "      <th>PctPublicCoverage</th>\n",
       "      <th>PctPublicCoverageAlone</th>\n",
       "      <th>PctWhite</th>\n",
       "      <th>PctBlack</th>\n",
       "      <th>PctAsian</th>\n",
       "      <th>PctOtherRace</th>\n",
       "      <th>PctMarriedHouseholds</th>\n",
       "      <th>BirthRate</th>\n",
       "    </tr>\n",
       "  </thead>\n",
       "  <tbody>\n",
       "    <tr>\n",
       "      <th>0</th>\n",
       "      <td>1397.0</td>\n",
       "      <td>469</td>\n",
       "      <td>164.9</td>\n",
       "      <td>489.8</td>\n",
       "      <td>61898</td>\n",
       "      <td>260131</td>\n",
       "      <td>11.2</td>\n",
       "      <td>499.748204</td>\n",
       "      <td>(61494.5, 125635]</td>\n",
       "      <td>39.3</td>\n",
       "      <td>...</td>\n",
       "      <td>NaN</td>\n",
       "      <td>41.6</td>\n",
       "      <td>32.9</td>\n",
       "      <td>14.0</td>\n",
       "      <td>81.780529</td>\n",
       "      <td>2.594728</td>\n",
       "      <td>4.821857</td>\n",
       "      <td>1.843479</td>\n",
       "      <td>52.856076</td>\n",
       "      <td>6.118831</td>\n",
       "    </tr>\n",
       "    <tr>\n",
       "      <th>1</th>\n",
       "      <td>173.0</td>\n",
       "      <td>70</td>\n",
       "      <td>161.3</td>\n",
       "      <td>411.6</td>\n",
       "      <td>48127</td>\n",
       "      <td>43269</td>\n",
       "      <td>18.6</td>\n",
       "      <td>23.111234</td>\n",
       "      <td>(48021.6, 51046.4]</td>\n",
       "      <td>33.0</td>\n",
       "      <td>...</td>\n",
       "      <td>53.8</td>\n",
       "      <td>43.6</td>\n",
       "      <td>31.1</td>\n",
       "      <td>15.3</td>\n",
       "      <td>89.228509</td>\n",
       "      <td>0.969102</td>\n",
       "      <td>2.246233</td>\n",
       "      <td>3.741352</td>\n",
       "      <td>45.372500</td>\n",
       "      <td>4.333096</td>\n",
       "    </tr>\n",
       "    <tr>\n",
       "      <th>2</th>\n",
       "      <td>102.0</td>\n",
       "      <td>50</td>\n",
       "      <td>174.7</td>\n",
       "      <td>349.7</td>\n",
       "      <td>49348</td>\n",
       "      <td>21026</td>\n",
       "      <td>14.6</td>\n",
       "      <td>47.560164</td>\n",
       "      <td>(48021.6, 51046.4]</td>\n",
       "      <td>45.0</td>\n",
       "      <td>...</td>\n",
       "      <td>43.5</td>\n",
       "      <td>34.9</td>\n",
       "      <td>42.1</td>\n",
       "      <td>21.1</td>\n",
       "      <td>90.922190</td>\n",
       "      <td>0.739673</td>\n",
       "      <td>0.465898</td>\n",
       "      <td>2.747358</td>\n",
       "      <td>54.444868</td>\n",
       "      <td>3.729488</td>\n",
       "    </tr>\n",
       "    <tr>\n",
       "      <th>3</th>\n",
       "      <td>427.0</td>\n",
       "      <td>202</td>\n",
       "      <td>194.8</td>\n",
       "      <td>430.4</td>\n",
       "      <td>44243</td>\n",
       "      <td>75882</td>\n",
       "      <td>17.1</td>\n",
       "      <td>342.637253</td>\n",
       "      <td>(42724.4, 45201]</td>\n",
       "      <td>42.8</td>\n",
       "      <td>...</td>\n",
       "      <td>40.3</td>\n",
       "      <td>35.0</td>\n",
       "      <td>45.3</td>\n",
       "      <td>25.0</td>\n",
       "      <td>91.744686</td>\n",
       "      <td>0.782626</td>\n",
       "      <td>1.161359</td>\n",
       "      <td>1.362643</td>\n",
       "      <td>51.021514</td>\n",
       "      <td>4.603841</td>\n",
       "    </tr>\n",
       "    <tr>\n",
       "      <th>4</th>\n",
       "      <td>57.0</td>\n",
       "      <td>26</td>\n",
       "      <td>144.4</td>\n",
       "      <td>350.1</td>\n",
       "      <td>49955</td>\n",
       "      <td>10321</td>\n",
       "      <td>12.5</td>\n",
       "      <td>0.000000</td>\n",
       "      <td>(48021.6, 51046.4]</td>\n",
       "      <td>48.3</td>\n",
       "      <td>...</td>\n",
       "      <td>43.9</td>\n",
       "      <td>35.1</td>\n",
       "      <td>44.0</td>\n",
       "      <td>22.7</td>\n",
       "      <td>94.104024</td>\n",
       "      <td>0.270192</td>\n",
       "      <td>0.665830</td>\n",
       "      <td>0.492135</td>\n",
       "      <td>54.027460</td>\n",
       "      <td>6.796657</td>\n",
       "    </tr>\n",
       "  </tbody>\n",
       "</table>\n",
       "<p>5 rows × 34 columns</p>\n",
       "</div>"
      ],
      "text/plain": [
       "   avgAnnCount  avgDeathsPerYear  TARGET_deathRate  incidenceRate  medIncome  \\\n",
       "0       1397.0               469             164.9          489.8      61898   \n",
       "1        173.0                70             161.3          411.6      48127   \n",
       "2        102.0                50             174.7          349.7      49348   \n",
       "3        427.0               202             194.8          430.4      44243   \n",
       "4         57.0                26             144.4          350.1      49955   \n",
       "\n",
       "   popEst2015  povertyPercent  studyPerCap           binnedInc  MedianAge  \\\n",
       "0      260131            11.2   499.748204   (61494.5, 125635]       39.3   \n",
       "1       43269            18.6    23.111234  (48021.6, 51046.4]       33.0   \n",
       "2       21026            14.6    47.560164  (48021.6, 51046.4]       45.0   \n",
       "3       75882            17.1   342.637253    (42724.4, 45201]       42.8   \n",
       "4       10321            12.5     0.000000  (48021.6, 51046.4]       48.3   \n",
       "\n",
       "   ...  PctPrivateCoverageAlone  PctEmpPrivCoverage PctPublicCoverage  \\\n",
       "0  ...                      NaN                41.6              32.9   \n",
       "1  ...                     53.8                43.6              31.1   \n",
       "2  ...                     43.5                34.9              42.1   \n",
       "3  ...                     40.3                35.0              45.3   \n",
       "4  ...                     43.9                35.1              44.0   \n",
       "\n",
       "   PctPublicCoverageAlone   PctWhite  PctBlack  PctAsian  PctOtherRace  \\\n",
       "0                    14.0  81.780529  2.594728  4.821857      1.843479   \n",
       "1                    15.3  89.228509  0.969102  2.246233      3.741352   \n",
       "2                    21.1  90.922190  0.739673  0.465898      2.747358   \n",
       "3                    25.0  91.744686  0.782626  1.161359      1.362643   \n",
       "4                    22.7  94.104024  0.270192  0.665830      0.492135   \n",
       "\n",
       "   PctMarriedHouseholds  BirthRate  \n",
       "0             52.856076   6.118831  \n",
       "1             45.372500   4.333096  \n",
       "2             54.444868   3.729488  \n",
       "3             51.021514   4.603841  \n",
       "4             54.027460   6.796657  \n",
       "\n",
       "[5 rows x 34 columns]"
      ]
     },
     "execution_count": 46,
     "metadata": {},
     "output_type": "execute_result"
    }
   ],
   "source": [
    "df = pd.read_csv('cancer_reg.csv', encoding='ISO-8859-1')\n",
    "df.head()"
   ]
  },
  {
   "cell_type": "code",
   "execution_count": 47,
   "id": "c2327adb",
   "metadata": {},
   "outputs": [
    {
     "name": "stdout",
     "output_type": "stream",
     "text": [
      "<class 'pandas.core.frame.DataFrame'>\n",
      "RangeIndex: 3047 entries, 0 to 3046\n",
      "Data columns (total 34 columns):\n",
      " #   Column                   Non-Null Count  Dtype  \n",
      "---  ------                   --------------  -----  \n",
      " 0   avgAnnCount              3047 non-null   float64\n",
      " 1   avgDeathsPerYear         3047 non-null   int64  \n",
      " 2   TARGET_deathRate         3047 non-null   float64\n",
      " 3   incidenceRate            3047 non-null   float64\n",
      " 4   medIncome                3047 non-null   int64  \n",
      " 5   popEst2015               3047 non-null   int64  \n",
      " 6   povertyPercent           3047 non-null   float64\n",
      " 7   studyPerCap              3047 non-null   float64\n",
      " 8   binnedInc                3047 non-null   object \n",
      " 9   MedianAge                3047 non-null   float64\n",
      " 10  MedianAgeMale            3047 non-null   float64\n",
      " 11  MedianAgeFemale          3047 non-null   float64\n",
      " 12  Geography                3047 non-null   object \n",
      " 13  AvgHouseholdSize         3047 non-null   float64\n",
      " 14  PercentMarried           3047 non-null   float64\n",
      " 15  PctNoHS18_24             3047 non-null   float64\n",
      " 16  PctHS18_24               3047 non-null   float64\n",
      " 17  PctSomeCol18_24          762 non-null    float64\n",
      " 18  PctBachDeg18_24          3047 non-null   float64\n",
      " 19  PctHS25_Over             3047 non-null   float64\n",
      " 20  PctBachDeg25_Over        3047 non-null   float64\n",
      " 21  PctEmployed16_Over       2895 non-null   float64\n",
      " 22  PctUnemployed16_Over     3047 non-null   float64\n",
      " 23  PctPrivateCoverage       3047 non-null   float64\n",
      " 24  PctPrivateCoverageAlone  2438 non-null   float64\n",
      " 25  PctEmpPrivCoverage       3047 non-null   float64\n",
      " 26  PctPublicCoverage        3047 non-null   float64\n",
      " 27  PctPublicCoverageAlone   3047 non-null   float64\n",
      " 28  PctWhite                 3047 non-null   float64\n",
      " 29  PctBlack                 3047 non-null   float64\n",
      " 30  PctAsian                 3047 non-null   float64\n",
      " 31  PctOtherRace             3047 non-null   float64\n",
      " 32  PctMarriedHouseholds     3047 non-null   float64\n",
      " 33  BirthRate                3047 non-null   float64\n",
      "dtypes: float64(29), int64(3), object(2)\n",
      "memory usage: 809.5+ KB\n"
     ]
    }
   ],
   "source": [
    "df.info()"
   ]
  },
  {
   "cell_type": "code",
   "execution_count": 48,
   "id": "e6381116",
   "metadata": {},
   "outputs": [],
   "source": [
    "df_new = df.copy()"
   ]
  },
  {
   "cell_type": "code",
   "execution_count": 49,
   "id": "0c7d17fe",
   "metadata": {},
   "outputs": [],
   "source": [
    "drop_cols = ['TARGET_deathRate', 'PctSomeCol18_24','PctPrivateCoverageAlone','PctWhite', 'PctBlack', 'PctAsian', 'PctOtherRace']\n",
    "\n",
    "cat_cols = ['binnedInc', 'Geography']\n",
    "target_col = 'TARGET_deathRate'"
   ]
  },
  {
   "cell_type": "code",
   "execution_count": 50,
   "id": "819761c2",
   "metadata": {},
   "outputs": [],
   "source": [
    "import pandas as pd\n",
    "\n",
    "# Assuming 'df' is your DataFrame\n",
    "columns_to_fill = ['PctSomeCol18_24','PctPrivateCoverageAlone','PctEmployed16_Over']  # Replace with your actual column names\n",
    "\n",
    "# Fill null values with the mean for each specified column\n",
    "for column in columns_to_fill:\n",
    "    mean_value = df_new[column].mean()\n",
    "    df_new[column].fillna(mean_value, inplace=True)\n",
    "\n",
    "# Now 'df' has null values in the specified columns filled with the mean\n"
   ]
  },
  {
   "cell_type": "code",
   "execution_count": 51,
   "id": "43c56c1a",
   "metadata": {},
   "outputs": [],
   "source": [
    "import numpy as np\n",
    "y = df_new[target_col]\n",
    "x = df_new.drop(drop_cols+cat_cols, axis=1)"
   ]
  },
  {
   "cell_type": "code",
   "execution_count": 52,
   "id": "c9301c6c",
   "metadata": {},
   "outputs": [
    {
     "name": "stdout",
     "output_type": "stream",
     "text": [
      "                            OLS Regression Results                            \n",
      "==============================================================================\n",
      "Dep. Variable:       TARGET_deathRate   R-squared:                       0.514\n",
      "Model:                            OLS   Adj. R-squared:                  0.510\n",
      "Method:                 Least Squares   F-statistic:                     128.0\n",
      "Date:                Mon, 29 Jan 2024   Prob (F-statistic):               0.00\n",
      "Time:                        15:59:57   Log-Likelihood:                -13349.\n",
      "No. Observations:                3047   AIC:                         2.675e+04\n",
      "Df Residuals:                    3021   BIC:                         2.691e+04\n",
      "Df Model:                          25                                         \n",
      "Covariance Type:            nonrobust                                         \n",
      "==========================================================================================\n",
      "                             coef    std err          t      P>|t|      [0.025      0.975]\n",
      "------------------------------------------------------------------------------------------\n",
      "const                    134.0875     14.680      9.134      0.000     105.303     162.872\n",
      "avgAnnCount               -0.0034      0.001     -4.341      0.000      -0.005      -0.002\n",
      "avgDeathsPerYear           0.0184      0.004      4.724      0.000       0.011       0.026\n",
      "incidenceRate              0.1991      0.007     27.735      0.000       0.185       0.213\n",
      "medIncome                  0.0001    7.6e-05      1.933      0.053   -2.08e-06       0.000\n",
      "popEst2015             -1.744e-05   5.44e-06     -3.208      0.001   -2.81e-05   -6.78e-06\n",
      "povertyPercent             0.5535      0.156      3.539      0.000       0.247       0.860\n",
      "studyPerCap             2.651e-05      0.001      0.039      0.969      -0.001       0.001\n",
      "MedianAge                 -0.0029      0.008     -0.372      0.710      -0.018       0.012\n",
      "MedianAgeMale             -0.4616      0.208     -2.216      0.027      -0.870      -0.053\n",
      "MedianAgeFemale           -0.0418      0.213     -0.196      0.844      -0.459       0.375\n",
      "AvgHouseholdSize           0.6011      0.958      0.627      0.530      -1.278       2.480\n",
      "PercentMarried             1.2913      0.164      7.871      0.000       0.970       1.613\n",
      "PctNoHS18_24              -0.1498      0.056     -2.699      0.007      -0.259      -0.041\n",
      "PctHS18_24                 0.2100      0.050      4.242      0.000       0.113       0.307\n",
      "PctBachDeg18_24           -0.1293      0.108     -1.194      0.233      -0.342       0.083\n",
      "PctHS25_Over               0.5902      0.093      6.317      0.000       0.407       0.773\n",
      "PctBachDeg25_Over         -0.9664      0.151     -6.417      0.000      -1.262      -0.671\n",
      "PctEmployed16_Over        -0.5285      0.100     -5.285      0.000      -0.724      -0.332\n",
      "PctUnemployed16_Over       0.3396      0.163      2.088      0.037       0.021       0.659\n",
      "PctPrivateCoverage        -0.3960      0.130     -3.050      0.002      -0.651      -0.141\n",
      "PctEmpPrivCoverage         0.3105      0.101      3.061      0.002       0.112       0.509\n",
      "PctPublicCoverage         -0.3567      0.222     -1.610      0.108      -0.791       0.078\n",
      "PctPublicCoverageAlone     0.3601      0.279      1.291      0.197      -0.187       0.907\n",
      "PctMarriedHouseholds      -1.3865      0.157     -8.808      0.000      -1.695      -1.078\n",
      "BirthRate                 -0.8102      0.193     -4.192      0.000      -1.189      -0.431\n",
      "==============================================================================\n",
      "Omnibus:                      200.195   Durbin-Watson:                   1.765\n",
      "Prob(Omnibus):                  0.000   Jarque-Bera (JB):              817.921\n",
      "Skew:                           0.178   Prob(JB):                    2.46e-178\n",
      "Kurtosis:                       5.513   Cond. No.                     1.44e+07\n",
      "==============================================================================\n",
      "\n",
      "Notes:\n",
      "[1] Standard Errors assume that the covariance matrix of the errors is correctly specified.\n",
      "[2] The condition number is large, 1.44e+07. This might indicate that there are\n",
      "strong multicollinearity or other numerical problems.\n"
     ]
    }
   ],
   "source": [
    "import statsmodels.api as sm\n",
    "x = sm.add_constant(x)\n",
    "model = sm.OLS(y,x).fit()\n",
    "print(model.summary())"
   ]
  },
  {
   "cell_type": "code",
   "execution_count": 53,
   "id": "cfa0e3bc",
   "metadata": {},
   "outputs": [],
   "source": [
    "cols = model.pvalues[(model.pvalues<0.0001) & (model.pvalues.index!='const')]"
   ]
  },
  {
   "cell_type": "markdown",
   "id": "3794f210",
   "metadata": {},
   "source": [
    "## Model 2\n",
    "\n",
    "* Features having pvalues < 0.05"
   ]
  },
  {
   "cell_type": "code",
   "execution_count": 54,
   "id": "7347e9fe",
   "metadata": {},
   "outputs": [],
   "source": [
    "df_new = df.copy()"
   ]
  },
  {
   "cell_type": "code",
   "execution_count": 55,
   "id": "9a749ca5",
   "metadata": {},
   "outputs": [],
   "source": [
    "df['binnedInc'].unique()\n",
    "income_mapping = {\n",
    "    '[22640, 34218.1]':0,\n",
    "    '(34218.1, 37413.8]':1,\n",
    "    '(37413.8, 40362.7]':2,\n",
    "    '(40362.7, 42724.4]':3,\n",
    "    '(42724.4, 45201]':4,\n",
    "    '(45201, 48021.6]':5,\n",
    "    '(48021.6, 51046.4]':6,\n",
    "    '(51046.4, 54545.6]':7,\n",
    "    '(54545.6, 61494.5]':8,\n",
    "    '(61494.5, 125635]':9\n",
    "}\n",
    "df_new['binnedInc'] = df_new['binnedInc'].replace(income_mapping)"
   ]
  },
  {
   "cell_type": "code",
   "execution_count": 56,
   "id": "e701d5d9",
   "metadata": {},
   "outputs": [],
   "source": [
    "feature_cols = list(cols.index)\n",
    "cat_cols = ['Geography']\n",
    "target_col = 'TARGET_deathRate'"
   ]
  },
  {
   "cell_type": "code",
   "execution_count": 57,
   "id": "b1e5a091",
   "metadata": {},
   "outputs": [
    {
     "data": {
      "text/plain": [
       "Index(['avgAnnCount', 'avgDeathsPerYear', 'TARGET_deathRate', 'incidenceRate',\n",
       "       'medIncome', 'popEst2015', 'povertyPercent', 'studyPerCap', 'binnedInc',\n",
       "       'MedianAge', 'MedianAgeMale', 'MedianAgeFemale', 'Geography',\n",
       "       'AvgHouseholdSize', 'PercentMarried', 'PctNoHS18_24', 'PctHS18_24',\n",
       "       'PctSomeCol18_24', 'PctBachDeg18_24', 'PctHS25_Over',\n",
       "       'PctBachDeg25_Over', 'PctEmployed16_Over', 'PctUnemployed16_Over',\n",
       "       'PctPrivateCoverage', 'PctPrivateCoverageAlone', 'PctEmpPrivCoverage',\n",
       "       'PctPublicCoverage', 'PctPublicCoverageAlone', 'PctWhite', 'PctBlack',\n",
       "       'PctAsian', 'PctOtherRace', 'PctMarriedHouseholds', 'BirthRate'],\n",
       "      dtype='object')"
      ]
     },
     "execution_count": 57,
     "metadata": {},
     "output_type": "execute_result"
    }
   ],
   "source": [
    "df.columns"
   ]
  },
  {
   "cell_type": "code",
   "execution_count": 58,
   "id": "2a351297",
   "metadata": {},
   "outputs": [],
   "source": [
    "# feature_cols = [\n",
    "#  'incidenceRate','PctHS25_Over','PctBachDeg25_Over'\n",
    "#  ]\n",
    "\n",
    "feature_cols = ['incidenceRate',\n",
    "'PctHS25_Over',\n",
    "'PctBachDeg25_Over',\n",
    "'PctPublicCoverageAlone'                \n",
    "    ]"
   ]
  },
  {
   "cell_type": "code",
   "execution_count": 59,
   "id": "64602f4d",
   "metadata": {},
   "outputs": [],
   "source": [
    "import pandas as pd\n",
    "\n",
    "# Assuming 'df' is your DataFrame\n",
    "columns_to_fill = ['PctSomeCol18_24','PctPrivateCoverageAlone','PctEmployed16_Over']  # Replace with your actual column names\n",
    "\n",
    "# Fill null values with the mean for each specified column\n",
    "for column in columns_to_fill:\n",
    "    mean_value = df_new[column].mean()\n",
    "    df_new[column].fillna(mean_value, inplace=True)\n",
    "\n",
    "# Now 'df' has null values in the specified columns filled with the mean\n"
   ]
  },
  {
   "cell_type": "code",
   "execution_count": 60,
   "id": "7f7e3d8c",
   "metadata": {},
   "outputs": [],
   "source": [
    "y = df_new[target_col]\n",
    "x = df_new[feature_cols]"
   ]
  },
  {
   "cell_type": "code",
   "execution_count": 61,
   "id": "1ea9397d",
   "metadata": {},
   "outputs": [
    {
     "name": "stdout",
     "output_type": "stream",
     "text": [
      "                            OLS Regression Results                            \n",
      "==============================================================================\n",
      "Dep. Variable:       TARGET_deathRate   R-squared:                       0.460\n",
      "Model:                            OLS   Adj. R-squared:                  0.459\n",
      "Method:                 Least Squares   F-statistic:                     648.1\n",
      "Date:                Mon, 29 Jan 2024   Prob (F-statistic):               0.00\n",
      "Time:                        15:59:59   Log-Likelihood:                -13510.\n",
      "No. Observations:                3047   AIC:                         2.703e+04\n",
      "Df Residuals:                    3042   BIC:                         2.706e+04\n",
      "Df Model:                           4                                         \n",
      "Covariance Type:            nonrobust                                         \n",
      "==========================================================================================\n",
      "                             coef    std err          t      P>|t|      [0.025      0.975]\n",
      "------------------------------------------------------------------------------------------\n",
      "const                     63.6430      5.627     11.310      0.000      52.609      74.676\n",
      "incidenceRate              0.2124      0.007     30.956      0.000       0.199       0.226\n",
      "PctHS25_Over               0.3933      0.083      4.767      0.000       0.232       0.555\n",
      "PctBachDeg25_Over         -1.2332      0.128     -9.613      0.000      -1.485      -0.982\n",
      "PctPublicCoverageAlone     1.1688      0.079     14.716      0.000       1.013       1.325\n",
      "==============================================================================\n",
      "Omnibus:                      158.488   Durbin-Watson:                   1.671\n",
      "Prob(Omnibus):                  0.000   Jarque-Bera (JB):              528.485\n",
      "Skew:                           0.161   Prob(JB):                    1.74e-115\n",
      "Kurtosis:                       5.015   Cond. No.                     6.91e+03\n",
      "==============================================================================\n",
      "\n",
      "Notes:\n",
      "[1] Standard Errors assume that the covariance matrix of the errors is correctly specified.\n",
      "[2] The condition number is large, 6.91e+03. This might indicate that there are\n",
      "strong multicollinearity or other numerical problems.\n"
     ]
    }
   ],
   "source": [
    "import statsmodels.api as sm\n",
    "x = sm.add_constant(x)\n",
    "model = sm.OLS(y,x).fit()\n",
    "print(model.summary())"
   ]
  },
  {
   "cell_type": "markdown",
   "id": "1f51aa4a",
   "metadata": {},
   "source": [
    "Checking for multicollinearity"
   ]
  },
  {
   "cell_type": "code",
   "execution_count": 62,
   "id": "7a7bc07b",
   "metadata": {},
   "outputs": [
    {
     "name": "stdout",
     "output_type": "stream",
     "text": [
      "Condition Number: 6905.451979379025\n"
     ]
    }
   ],
   "source": [
    "_, s, _ = np.linalg.svd(x)\n",
    "condition_number = max(s) / min(s)\n",
    "print(\"Condition Number:\", condition_number)\n",
    "\n",
    "#A rule of thumb is that a condition number above 30 may indicate multicollinearity."
   ]
  },
  {
   "cell_type": "markdown",
   "id": "de65591b",
   "metadata": {},
   "source": [
    "Data has multicollinearity problem"
   ]
  },
  {
   "cell_type": "code",
   "execution_count": 63,
   "id": "72996d8d",
   "metadata": {},
   "outputs": [
    {
     "name": "stdout",
     "output_type": "stream",
     "text": [
      "High VIF Variables: 0    const\n",
      "Name: Variable, dtype: object\n"
     ]
    }
   ],
   "source": [
    "from statsmodels.stats.outliers_influence import variance_inflation_factor\n",
    "\n",
    "# Assuming 'x' is your DataFrame of independent variables\n",
    "vif_data = pd.DataFrame()\n",
    "vif_data[\"Variable\"] = x.columns\n",
    "vif_data[\"VIF\"] = [variance_inflation_factor(x.values, i) for i in range(x.shape[1])]\n",
    "\n",
    "high_vif_variables = vif_data[vif_data[\"VIF\"] > 10][\"Variable\"]\n",
    "print(\"High VIF Variables:\", high_vif_variables)\n"
   ]
  },
  {
   "cell_type": "code",
   "execution_count": 64,
   "id": "50de8c69",
   "metadata": {},
   "outputs": [
    {
     "data": {
      "text/html": [
       "<div>\n",
       "<style scoped>\n",
       "    .dataframe tbody tr th:only-of-type {\n",
       "        vertical-align: middle;\n",
       "    }\n",
       "\n",
       "    .dataframe tbody tr th {\n",
       "        vertical-align: top;\n",
       "    }\n",
       "\n",
       "    .dataframe thead th {\n",
       "        text-align: right;\n",
       "    }\n",
       "</style>\n",
       "<table border=\"1\" class=\"dataframe\">\n",
       "  <thead>\n",
       "    <tr style=\"text-align: right;\">\n",
       "      <th></th>\n",
       "      <th>Variable</th>\n",
       "      <th>VIF</th>\n",
       "    </tr>\n",
       "  </thead>\n",
       "  <tbody>\n",
       "    <tr>\n",
       "      <th>0</th>\n",
       "      <td>const</td>\n",
       "      <td>231.745761</td>\n",
       "    </tr>\n",
       "    <tr>\n",
       "      <th>1</th>\n",
       "      <td>incidenceRate</td>\n",
       "      <td>1.025568</td>\n",
       "    </tr>\n",
       "    <tr>\n",
       "      <th>2</th>\n",
       "      <td>PctHS25_Over</td>\n",
       "      <td>2.464977</td>\n",
       "    </tr>\n",
       "    <tr>\n",
       "      <th>3</th>\n",
       "      <td>PctBachDeg25_Over</td>\n",
       "      <td>3.504137</td>\n",
       "    </tr>\n",
       "    <tr>\n",
       "      <th>4</th>\n",
       "      <td>PctPublicCoverageAlone</td>\n",
       "      <td>1.724822</td>\n",
       "    </tr>\n",
       "  </tbody>\n",
       "</table>\n",
       "</div>"
      ],
      "text/plain": [
       "                 Variable         VIF\n",
       "0                   const  231.745761\n",
       "1           incidenceRate    1.025568\n",
       "2            PctHS25_Over    2.464977\n",
       "3       PctBachDeg25_Over    3.504137\n",
       "4  PctPublicCoverageAlone    1.724822"
      ]
     },
     "execution_count": 64,
     "metadata": {},
     "output_type": "execute_result"
    }
   ],
   "source": [
    "vif_data"
   ]
  },
  {
   "cell_type": "code",
   "execution_count": 65,
   "id": "b19188b1",
   "metadata": {},
   "outputs": [],
   "source": [
    "feature_cols = list(vif_data[vif_data['VIF']<2]['Variable'].unique())"
   ]
  },
  {
   "cell_type": "code",
   "execution_count": 66,
   "id": "3faf9e6b",
   "metadata": {},
   "outputs": [
    {
     "data": {
      "text/plain": [
       "['incidenceRate', 'PctPublicCoverageAlone']"
      ]
     },
     "execution_count": 66,
     "metadata": {},
     "output_type": "execute_result"
    }
   ],
   "source": [
    "feature_cols"
   ]
  },
  {
   "cell_type": "code",
   "execution_count": 67,
   "id": "7145f218",
   "metadata": {},
   "outputs": [
    {
     "name": "stdout",
     "output_type": "stream",
     "text": [
      "Ridge()\n"
     ]
    }
   ],
   "source": [
    "from sklearn.linear_model import Ridge\n",
    "\n",
    "ridge_model = Ridge(alpha=1.0)  # Adjust alpha as needed\n",
    "model = ridge_model.fit(x, y)\n",
    "print(model)"
   ]
  },
  {
   "cell_type": "code",
   "execution_count": 68,
   "id": "4e739642",
   "metadata": {},
   "outputs": [],
   "source": [
    "from sklearn.decomposition import PCA\n",
    "\n",
    "pca = PCA()\n",
    "x_pca = pca.fit_transform(x)\n"
   ]
  },
  {
   "cell_type": "code",
   "execution_count": 69,
   "id": "870353e0",
   "metadata": {},
   "outputs": [
    {
     "name": "stdout",
     "output_type": "stream",
     "text": [
      "      avgAnnCount  avgDeathsPerYear  TARGET_deathRate  incidenceRate  \\\n",
      "0     1397.000000               469             164.9     489.800000   \n",
      "1      173.000000                70             161.3     411.600000   \n",
      "2      102.000000                50             174.7     349.700000   \n",
      "3      427.000000               202             194.8     430.400000   \n",
      "4       57.000000                26             144.4     350.100000   \n",
      "...           ...               ...               ...            ...   \n",
      "3042  1962.667684                15             149.6     453.549422   \n",
      "3043  1962.667684                43             150.1     453.549422   \n",
      "3044  1962.667684                46             153.9     453.549422   \n",
      "3045  1962.667684                52             175.0     453.549422   \n",
      "3046  1962.667684                48             213.6     453.549422   \n",
      "\n",
      "      medIncome  popEst2015  povertyPercent  studyPerCap  binnedInc  \\\n",
      "0         61898      260131            11.2   499.748204          9   \n",
      "1         48127       43269            18.6    23.111234          6   \n",
      "2         49348       21026            14.6    47.560164          6   \n",
      "3         44243       75882            17.1   342.637253          4   \n",
      "4         49955       10321            12.5     0.000000          6   \n",
      "...         ...         ...             ...          ...        ...   \n",
      "3042      46961        6343            12.4     0.000000          5   \n",
      "3043      48609       37118            18.8   377.175494          6   \n",
      "3044      51144       34536            15.0  1968.959926          7   \n",
      "3045      50745       25609            13.3     0.000000          6   \n",
      "3046      41193       37030            13.9     0.000000          3   \n",
      "\n",
      "      MedianAge  ...  PctPublicCoverage  PctPublicCoverageAlone   PctWhite  \\\n",
      "0          39.3  ...               32.9                    14.0  81.780529   \n",
      "1          33.0  ...               31.1                    15.3  89.228509   \n",
      "2          45.0  ...               42.1                    21.1  90.922190   \n",
      "3          42.8  ...               45.3                    25.0  91.744686   \n",
      "4          48.3  ...               44.0                    22.7  94.104024   \n",
      "...         ...  ...                ...                     ...        ...   \n",
      "3042       44.2  ...               31.7                    13.2  90.280811   \n",
      "3043       30.4  ...               28.8                    17.7  75.706245   \n",
      "3044       30.9  ...               26.6                    16.8  87.961629   \n",
      "3045       39.0  ...               29.5                    14.0  92.905681   \n",
      "3046       26.2  ...               25.1                    12.6  70.098132   \n",
      "\n",
      "       PctBlack  PctAsian  PctOtherRace  PctMarriedHouseholds  BirthRate  \\\n",
      "0      2.594728  4.821857      1.843479             52.856076   6.118831   \n",
      "1      0.969102  2.246233      3.741352             45.372500   4.333096   \n",
      "2      0.739673  0.465898      2.747358             54.444868   3.729488   \n",
      "3      0.782626  1.161359      1.362643             51.021514   4.603841   \n",
      "4      0.270192  0.665830      0.492135             54.027460   6.796657   \n",
      "...         ...       ...           ...                   ...        ...   \n",
      "3042   3.837754  0.327613      1.700468             51.063830   7.773512   \n",
      "3043   2.326771  4.044920     14.130288             52.007937   8.186470   \n",
      "3044   2.313188  1.316472      5.680705             55.153949   7.809192   \n",
      "3045   1.176562  0.244632      2.131790             58.484232   7.582938   \n",
      "3046  16.590100  3.177753      1.356457             56.040242   8.981723   \n",
      "\n",
      "           County/City        State  \n",
      "0        Kitsap County   Washington  \n",
      "1      Kittitas County   Washington  \n",
      "2     Klickitat County   Washington  \n",
      "3         Lewis County   Washington  \n",
      "4       Lincoln County   Washington  \n",
      "...                ...          ...  \n",
      "3042  Ellsworth County       Kansas  \n",
      "3043     Finney County       Kansas  \n",
      "3044       Ford County       Kansas  \n",
      "3045   Franklin County       Kansas  \n",
      "3046      Geary County       Kansas  \n",
      "\n",
      "[3047 rows x 36 columns]\n"
     ]
    }
   ],
   "source": [
    "import pandas as pd\n",
    "\n",
    "# Assuming ols_project is your DataFrame\n",
    "# Replace 'YourDataFrame' with the actual DataFrame name if it's different\n",
    "\n",
    "df_new[['County/City', 'State']] = df_new['Geography'].str.split(',', expand=True)\n",
    "\n",
    "# Drop the original 'Geography' column if needed\n",
    "# ols_project = ols_project.drop('Geography', axis=1)\n",
    "\n",
    "# Display the modified DataFrame\n",
    "print(df_new)\n"
   ]
  },
  {
   "cell_type": "code",
   "execution_count": null,
   "id": "03f0a075",
   "metadata": {},
   "outputs": [],
   "source": []
  },
  {
   "cell_type": "code",
   "execution_count": 70,
   "id": "abc73217",
   "metadata": {},
   "outputs": [
    {
     "ename": "NameError",
     "evalue": "name 'ols_project' is not defined",
     "output_type": "error",
     "traceback": [
      "\u001b[1;31m---------------------------------------------------------------------------\u001b[0m",
      "\u001b[1;31mNameError\u001b[0m                                 Traceback (most recent call last)",
      "\u001b[1;32m~\\AppData\\Local\\Temp\\ipykernel_19016\\4058192414.py\u001b[0m in \u001b[0;36m<module>\u001b[1;34m\u001b[0m\n\u001b[0;32m      8\u001b[0m \u001b[1;31m# Extracting columns for the Shapiro-Wilk test (excluding columns 9, 34, and 35)\u001b[0m\u001b[1;33m\u001b[0m\u001b[1;33m\u001b[0m\u001b[0m\n\u001b[0;32m      9\u001b[0m \u001b[0mcolumns_to_exclude\u001b[0m \u001b[1;33m=\u001b[0m \u001b[1;33m[\u001b[0m\u001b[1;34m\"Column9\"\u001b[0m\u001b[1;33m,\u001b[0m \u001b[1;34m\"Column34\"\u001b[0m\u001b[1;33m,\u001b[0m \u001b[1;34m\"Column35\"\u001b[0m\u001b[1;33m]\u001b[0m  \u001b[1;31m# Adjust these column names as needed\u001b[0m\u001b[1;33m\u001b[0m\u001b[1;33m\u001b[0m\u001b[0m\n\u001b[1;32m---> 10\u001b[1;33m \u001b[0mcolumns_for_test\u001b[0m \u001b[1;33m=\u001b[0m \u001b[0mols_project\u001b[0m\u001b[1;33m.\u001b[0m\u001b[0mcolumns\u001b[0m\u001b[1;33m.\u001b[0m\u001b[0mdifference\u001b[0m\u001b[1;33m(\u001b[0m\u001b[0mcolumns_to_exclude\u001b[0m\u001b[1;33m)\u001b[0m\u001b[1;33m\u001b[0m\u001b[1;33m\u001b[0m\u001b[0m\n\u001b[0m\u001b[0;32m     11\u001b[0m \u001b[1;33m\u001b[0m\u001b[0m\n\u001b[0;32m     12\u001b[0m \u001b[1;31m# Create a DataFrame to store the results\u001b[0m\u001b[1;33m\u001b[0m\u001b[1;33m\u001b[0m\u001b[0m\n",
      "\u001b[1;31mNameError\u001b[0m: name 'ols_project' is not defined"
     ]
    }
   ],
   "source": [
    "import pandas as pd\n",
    "import seaborn as sns\n",
    "from scipy.stats import shapiro\n",
    "\n",
    "# Assuming your DataFrame is named ols_project\n",
    "# Replace 'YourDataFrame' with the actual DataFrame name if it's different\n",
    "\n",
    "# Extracting columns for the Shapiro-Wilk test (excluding columns 9, 34, and 35)\n",
    "columns_to_exclude = [\"Column9\", \"Column34\", \"Column35\"]  # Adjust these column names as needed\n",
    "columns_for_test = ols_project.columns.difference(columns_to_exclude)\n",
    "\n",
    "# Create a DataFrame to store the results\n",
    "shapiro_results = pd.DataFrame(columns=[\"Column\", \"W-statistic\", \"P-value\"])\n",
    "\n",
    "# Perform the Shapiro-Wilk test for each column\n",
    "for column in columns_for_test:\n",
    "    stat, p_value = shapiro(ols_project[column])\n",
    "    shapiro_results = shapiro_results.append({\"Column\": column, \"W-statistic\": stat, \"P-value\": p_value}, ignore_index=True)\n",
    "\n",
    "# Display the results\n",
    "print(shapiro_results)\n",
    "\n",
    "\n",
    "\n",
    "\n",
    "# Assuming ols_project is your DataFrame\n",
    "# Replace 'YourDataFrame' with the actual DataFrame name if it's different\n",
    "\n",
    "# Quick way to plot distributions\n",
    "sns.histplot(data=df, kde=True)\n",
    "plt.show()\n",
    "\n",
    "# Create a DataFrame with column names and p-values from the Shapiro normality test\n",
    "columns_to_exclude = [\"Column9\", \"Column34\", \"Column35\"]  # Adjust these column names as needed\n",
    "\n",
    "shapiro_results = pd.DataFrame(columns=[\"Column\", \"P\"])\n",
    "\n",
    "for column in df_new.columns.difference(columns_to_exclude):\n",
    "    p_value = shapiro(df_new[column]).pvalue\n",
    "    shapiro_results = shapiro_results.append({\"Column\": column, \"P\": p_value}, ignore_index=True)\n",
    "\n",
    "# Display the DataFrame with p-values\n",
    "print(shapiro_results)\n"
   ]
  },
  {
   "cell_type": "code",
   "execution_count": 71,
   "id": "d7c34827",
   "metadata": {},
   "outputs": [
    {
     "ename": "AttributeError",
     "evalue": "'GrouperView' object has no attribute 'join'",
     "output_type": "error",
     "traceback": [
      "\u001b[1;31m---------------------------------------------------------------------------\u001b[0m",
      "\u001b[1;31mAttributeError\u001b[0m                            Traceback (most recent call last)",
      "\u001b[1;32m~\\AppData\\Local\\Temp\\ipykernel_19016\\872314189.py\u001b[0m in \u001b[0;36m<module>\u001b[1;34m\u001b[0m\n\u001b[0;32m     19\u001b[0m \u001b[1;33m\u001b[0m\u001b[0m\n\u001b[0;32m     20\u001b[0m \u001b[1;31m# Plot distributions and correlations\u001b[0m\u001b[1;33m\u001b[0m\u001b[1;33m\u001b[0m\u001b[0m\n\u001b[1;32m---> 21\u001b[1;33m \u001b[0msns\u001b[0m\u001b[1;33m.\u001b[0m\u001b[0mpairplot\u001b[0m\u001b[1;33m(\u001b[0m\u001b[0mselected_features_df\u001b[0m\u001b[1;33m)\u001b[0m\u001b[1;33m\u001b[0m\u001b[1;33m\u001b[0m\u001b[0m\n\u001b[0m\u001b[0;32m     22\u001b[0m \u001b[0mplt\u001b[0m\u001b[1;33m.\u001b[0m\u001b[0mshow\u001b[0m\u001b[1;33m(\u001b[0m\u001b[1;33m)\u001b[0m\u001b[1;33m\u001b[0m\u001b[1;33m\u001b[0m\u001b[0m\n\u001b[0;32m     23\u001b[0m \u001b[1;33m\u001b[0m\u001b[0m\n",
      "\u001b[1;32m~\\Downloads\\Installations\\Anaconda\\lib\\site-packages\\seaborn\\_decorators.py\u001b[0m in \u001b[0;36minner_f\u001b[1;34m(*args, **kwargs)\u001b[0m\n\u001b[0;32m     44\u001b[0m             )\n\u001b[0;32m     45\u001b[0m         \u001b[0mkwargs\u001b[0m\u001b[1;33m.\u001b[0m\u001b[0mupdate\u001b[0m\u001b[1;33m(\u001b[0m\u001b[1;33m{\u001b[0m\u001b[0mk\u001b[0m\u001b[1;33m:\u001b[0m \u001b[0marg\u001b[0m \u001b[1;32mfor\u001b[0m \u001b[0mk\u001b[0m\u001b[1;33m,\u001b[0m \u001b[0marg\u001b[0m \u001b[1;32min\u001b[0m \u001b[0mzip\u001b[0m\u001b[1;33m(\u001b[0m\u001b[0msig\u001b[0m\u001b[1;33m.\u001b[0m\u001b[0mparameters\u001b[0m\u001b[1;33m,\u001b[0m \u001b[0margs\u001b[0m\u001b[1;33m)\u001b[0m\u001b[1;33m}\u001b[0m\u001b[1;33m)\u001b[0m\u001b[1;33m\u001b[0m\u001b[1;33m\u001b[0m\u001b[0m\n\u001b[1;32m---> 46\u001b[1;33m         \u001b[1;32mreturn\u001b[0m \u001b[0mf\u001b[0m\u001b[1;33m(\u001b[0m\u001b[1;33m**\u001b[0m\u001b[0mkwargs\u001b[0m\u001b[1;33m)\u001b[0m\u001b[1;33m\u001b[0m\u001b[1;33m\u001b[0m\u001b[0m\n\u001b[0m\u001b[0;32m     47\u001b[0m     \u001b[1;32mreturn\u001b[0m \u001b[0minner_f\u001b[0m\u001b[1;33m\u001b[0m\u001b[1;33m\u001b[0m\u001b[0m\n\u001b[0;32m     48\u001b[0m \u001b[1;33m\u001b[0m\u001b[0m\n",
      "\u001b[1;32m~\\Downloads\\Installations\\Anaconda\\lib\\site-packages\\seaborn\\axisgrid.py\u001b[0m in \u001b[0;36mpairplot\u001b[1;34m(data, hue, hue_order, palette, vars, x_vars, y_vars, kind, diag_kind, markers, height, aspect, corner, dropna, plot_kws, diag_kws, grid_kws, size)\u001b[0m\n\u001b[0;32m   2124\u001b[0m     \u001b[0mdiag_kws\u001b[0m\u001b[1;33m.\u001b[0m\u001b[0msetdefault\u001b[0m\u001b[1;33m(\u001b[0m\u001b[1;34m\"legend\"\u001b[0m\u001b[1;33m,\u001b[0m \u001b[1;32mFalse\u001b[0m\u001b[1;33m)\u001b[0m\u001b[1;33m\u001b[0m\u001b[1;33m\u001b[0m\u001b[0m\n\u001b[0;32m   2125\u001b[0m     \u001b[1;32mif\u001b[0m \u001b[0mdiag_kind\u001b[0m \u001b[1;33m==\u001b[0m \u001b[1;34m\"hist\"\u001b[0m\u001b[1;33m:\u001b[0m\u001b[1;33m\u001b[0m\u001b[1;33m\u001b[0m\u001b[0m\n\u001b[1;32m-> 2126\u001b[1;33m         \u001b[0mgrid\u001b[0m\u001b[1;33m.\u001b[0m\u001b[0mmap_diag\u001b[0m\u001b[1;33m(\u001b[0m\u001b[0mhistplot\u001b[0m\u001b[1;33m,\u001b[0m \u001b[1;33m**\u001b[0m\u001b[0mdiag_kws\u001b[0m\u001b[1;33m)\u001b[0m\u001b[1;33m\u001b[0m\u001b[1;33m\u001b[0m\u001b[0m\n\u001b[0m\u001b[0;32m   2127\u001b[0m     \u001b[1;32melif\u001b[0m \u001b[0mdiag_kind\u001b[0m \u001b[1;33m==\u001b[0m \u001b[1;34m\"kde\"\u001b[0m\u001b[1;33m:\u001b[0m\u001b[1;33m\u001b[0m\u001b[1;33m\u001b[0m\u001b[0m\n\u001b[0;32m   2128\u001b[0m         \u001b[0mdiag_kws\u001b[0m\u001b[1;33m.\u001b[0m\u001b[0msetdefault\u001b[0m\u001b[1;33m(\u001b[0m\u001b[1;34m\"fill\"\u001b[0m\u001b[1;33m,\u001b[0m \u001b[1;32mTrue\u001b[0m\u001b[1;33m)\u001b[0m\u001b[1;33m\u001b[0m\u001b[1;33m\u001b[0m\u001b[0m\n",
      "\u001b[1;32m~\\Downloads\\Installations\\Anaconda\\lib\\site-packages\\seaborn\\axisgrid.py\u001b[0m in \u001b[0;36mmap_diag\u001b[1;34m(self, func, **kwargs)\u001b[0m\n\u001b[0;32m   1442\u001b[0m                 \u001b[0mgroup\u001b[0m \u001b[1;33m=\u001b[0m \u001b[0mdiag_axes\u001b[0m\u001b[1;33m[\u001b[0m\u001b[1;36m0\u001b[0m\u001b[1;33m]\u001b[0m\u001b[1;33m.\u001b[0m\u001b[0mget_shared_y_axes\u001b[0m\u001b[1;33m(\u001b[0m\u001b[1;33m)\u001b[0m\u001b[1;33m\u001b[0m\u001b[1;33m\u001b[0m\u001b[0m\n\u001b[0;32m   1443\u001b[0m                 \u001b[1;32mfor\u001b[0m \u001b[0max\u001b[0m \u001b[1;32min\u001b[0m \u001b[0mdiag_axes\u001b[0m\u001b[1;33m[\u001b[0m\u001b[1;36m1\u001b[0m\u001b[1;33m:\u001b[0m\u001b[1;33m]\u001b[0m\u001b[1;33m:\u001b[0m\u001b[1;33m\u001b[0m\u001b[1;33m\u001b[0m\u001b[0m\n\u001b[1;32m-> 1444\u001b[1;33m                     \u001b[0mgroup\u001b[0m\u001b[1;33m.\u001b[0m\u001b[0mjoin\u001b[0m\u001b[1;33m(\u001b[0m\u001b[0max\u001b[0m\u001b[1;33m,\u001b[0m \u001b[0mdiag_axes\u001b[0m\u001b[1;33m[\u001b[0m\u001b[1;36m0\u001b[0m\u001b[1;33m]\u001b[0m\u001b[1;33m)\u001b[0m\u001b[1;33m\u001b[0m\u001b[1;33m\u001b[0m\u001b[0m\n\u001b[0m\u001b[0;32m   1445\u001b[0m \u001b[1;33m\u001b[0m\u001b[0m\n\u001b[0;32m   1446\u001b[0m             \u001b[0mself\u001b[0m\u001b[1;33m.\u001b[0m\u001b[0mdiag_vars\u001b[0m \u001b[1;33m=\u001b[0m \u001b[0mnp\u001b[0m\u001b[1;33m.\u001b[0m\u001b[0marray\u001b[0m\u001b[1;33m(\u001b[0m\u001b[0mdiag_vars\u001b[0m\u001b[1;33m,\u001b[0m \u001b[0mnp\u001b[0m\u001b[1;33m.\u001b[0m\u001b[0mobject_\u001b[0m\u001b[1;33m)\u001b[0m\u001b[1;33m\u001b[0m\u001b[1;33m\u001b[0m\u001b[0m\n",
      "\u001b[1;31mAttributeError\u001b[0m: 'GrouperView' object has no attribute 'join'"
     ]
    },
    {
     "data": {
      "image/png": "[encoded data removed]",
      "text/plain": [
       "<Figure size 1750x1750 with 56 Axes>"
      ]
     },
     "metadata": {},
     "output_type": "display_data"
    }
   ],
   "source": [
    "import pandas as pd\n",
    "import seaborn as sns\n",
    "from sklearn.model_selection import train_test_split\n",
    "from sklearn.ensemble import GradientBoostingRegressor\n",
    "from sklearn.metrics import mean_squared_error\n",
    "from sklearn.preprocessing import StandardScaler\n",
    "import matplotlib.pyplot as plt\n",
    "\n",
    "# Assuming ols_project is your DataFrame\n",
    "# Replace 'YourDataFrame' with the actual DataFrame name if it's different\n",
    "\n",
    "# Define the features and target variable\n",
    "features = [\"PctPublicCoverageAlone\", \"povertyPercent\", \"AvgHouseholdSize\", \n",
    "            \"PctUnemployed16_Over\", \"PctBlack\", \"PctHS18_24\"]\n",
    "target_variable = \"TARGET_deathRate\"\n",
    "\n",
    "# Create a new DataFrame with selected features\n",
    "selected_features_df = df[features + [target_variable]]\n",
    "\n",
    "# Plot distributions and correlations\n",
    "sns.pairplot(selected_features_df)\n",
    "plt.show()\n",
    "\n",
    "# Add the target variable to the feature list\n",
    "features.append(target_variable)\n",
    "\n",
    "# Display summary statistics\n",
    "summary_statistics = selected_features_df[features].describe()\n",
    "print(summary_statistics)\n"
   ]
  },
  {
   "cell_type": "markdown",
   "id": "f549c067",
   "metadata": {},
   "source": [
    "## Model 3\n",
    "\n",
    "* Include State as a features"
   ]
  },
  {
   "cell_type": "code",
   "execution_count": null,
   "id": "6d6022a2",
   "metadata": {},
   "outputs": [],
   "source": [
    "df_new = df.copy()\n",
    "df_new.info()"
   ]
  },
  {
   "cell_type": "code",
   "execution_count": null,
   "id": "77d12beb",
   "metadata": {},
   "outputs": [],
   "source": [
    "target_col = 'TARGET_deathRate'"
   ]
  },
  {
   "cell_type": "code",
   "execution_count": null,
   "id": "1098e9c7",
   "metadata": {},
   "outputs": [],
   "source": [
    "import pandas as pd\n",
    "\n",
    "# Assuming ols_project is your DataFrame\n",
    "# Replace 'YourDataFrame' with the actual DataFrame name if it's different\n",
    "\n",
    "df_new[['County/City', 'State']] = df_new['Geography'].str.split(',', expand=True)\n",
    "\n",
    "# Drop the original 'Geography' column if needed\n",
    "# ols_project = ols_project.drop('Geography', axis=1)\n",
    "\n",
    "# Display the modified DataFrame\n",
    "display(df_new.head(3))"
   ]
  },
  {
   "cell_type": "code",
   "execution_count": null,
   "id": "46d28048",
   "metadata": {},
   "outputs": [],
   "source": [
    "df_groupbyState = df_new.groupby(['State'])"
   ]
  },
  {
   "cell_type": "code",
   "execution_count": null,
   "id": "726dd52c",
   "metadata": {},
   "outputs": [],
   "source": [
    "df_groupbyState[target_col].describe()"
   ]
  },
  {
   "cell_type": "code",
   "execution_count": null,
   "id": "14bd4f88",
   "metadata": {},
   "outputs": [],
   "source": [
    "df_new_ohe = pd.get_dummies(df_new, columns=['State'], prefix='State', dtype=int)"
   ]
  },
  {
   "cell_type": "code",
   "execution_count": null,
   "id": "ae266ad9",
   "metadata": {},
   "outputs": [],
   "source": [
    "df_new_ohe.head()"
   ]
  },
  {
   "cell_type": "code",
   "execution_count": null,
   "id": "62af386e",
   "metadata": {},
   "outputs": [],
   "source": [
    "df_new_ohe.columns"
   ]
  },
  {
   "cell_type": "code",
   "execution_count": null,
   "id": "9950ddee",
   "metadata": {},
   "outputs": [],
   "source": [
    "drop_cols = ['TARGET_deathRate', 'County/City', 'PctSomeCol18_24','PctPrivateCoverageAlone','PctWhite', 'PctBlack', 'PctAsian', 'PctOtherRace']\n",
    "cat_cols = ['binnedInc', 'Geography']\n",
    "target_col = 'TARGET_deathRate'"
   ]
  },
  {
   "cell_type": "code",
   "execution_count": null,
   "id": "010e43a6",
   "metadata": {},
   "outputs": [],
   "source": [
    "import pandas as pd\n",
    "\n",
    "# Assuming 'df' is your DataFrame\n",
    "columns_to_fill = ['PctSomeCol18_24','PctPrivateCoverageAlone','PctEmployed16_Over']  # Replace with your actual column names\n",
    "\n",
    "# Fill null values with the mean for each specified column\n",
    "for column in columns_to_fill:\n",
    "    mean_value = df_new_ohe[column].mean()\n",
    "    df_new_ohe[column].fillna(mean_value, inplace=True)\n",
    "\n",
    "# Now 'df' has null values in the specified columns filled with the mean"
   ]
  },
  {
   "cell_type": "code",
   "execution_count": null,
   "id": "86bcdc1b",
   "metadata": {},
   "outputs": [],
   "source": [
    "y = df_new_ohe[target_col]\n",
    "x = df_new_ohe.drop(drop_cols+cat_cols, axis=1)"
   ]
  },
  {
   "cell_type": "code",
   "execution_count": null,
   "id": "20b97b34",
   "metadata": {
    "scrolled": false
   },
   "outputs": [],
   "source": [
    "import statsmodels.api as sm\n",
    "x = sm.add_constant(x)\n",
    "model = sm.OLS(y,x).fit()\n",
    "print(model.summary())"
   ]
  },
  {
   "cell_type": "markdown",
   "id": "d20a1605",
   "metadata": {},
   "source": [
    "## Model 4\n",
    "\n",
    "* Feature selection - Remove highly correlated columns"
   ]
  },
  {
   "cell_type": "code",
   "execution_count": null,
   "id": "b62fc1f2",
   "metadata": {},
   "outputs": [],
   "source": []
  },
  {
   "cell_type": "code",
   "execution_count": null,
   "id": "913add13",
   "metadata": {},
   "outputs": [],
   "source": [
    "df_new_ohe['logPctHS25_Over'] = np.log(df_new_ohe['PctHS25_Over'])\n",
    "df_new_ohe['logpovertyPercent'] = np.log(df_new_ohe['povertyPercent'])\n",
    "df_new_ohe['logPercentMarried'] = np.log(df_new_ohe['PercentMarried'])\n",
    "df_new_ohe['logincidenceRate'] = np.log(df_new_ohe['incidenceRate'])\n",
    "df_new_ohe['logPctBachDeg25_Over'] = np.log(df_new_ohe['PctBachDeg25_Over'])\n",
    "df_new_ohe['AvgHouseholdSize_sq'] = np.square(df_new_ohe['AvgHouseholdSize'])\n",
    "df_new_ohe['MedianAge_sq'] = np.square(df_new_ohe['MedianAge'])\n",
    "df_new_ohe['BirthRate_sq'] = np.square(df_new_ohe['BirthRate'])"
   ]
  },
  {
   "cell_type": "code",
   "execution_count": null,
   "id": "18120ae2",
   "metadata": {},
   "outputs": [],
   "source": [
    "shantanu_features = ['avgAnnCount', 'avgDeathsPerYear', 'incidenceRate',\n",
    "       'medIncome', 'povertyPercent', 'studyPerCap', 'MedianAge',\n",
    "       'MedianAgeMale', 'AvgHouseholdSize', 'PercentMarried', 'PctNoHS18_24',\n",
    "       'PctHS18_24', 'PctSomeCol18_24', 'PctBachDeg18_24', 'PctHS25_Over',\n",
    "       'PctBachDeg25_Over', 'PctEmployed16_Over', 'PctUnemployed16_Over',\n",
    "       'PctPrivateCoverageAlone', 'PctEmpPrivCoverage', 'PctWhite', 'PctBlack',\n",
    "       'PctAsian', 'PctOtherRace', 'PctMarriedHouseholds', 'BirthRate']"
   ]
  },
  {
   "cell_type": "code",
   "execution_count": null,
   "id": "e675bcf7",
   "metadata": {},
   "outputs": [],
   "source": [
    "for col in shantanu_features:\n",
    "    df_new_ohe[col+'_sq'] = np.square(df_new_ohe[col])"
   ]
  },
  {
   "cell_type": "code",
   "execution_count": null,
   "id": "b9d88216",
   "metadata": {},
   "outputs": [],
   "source": [
    "shantanu_features_with_sq = ['avgAnnCount', 'avgDeathsPerYear', 'incidenceRate',\n",
    "       'medIncome', 'povertyPercent', 'studyPerCap', 'MedianAge',\n",
    "       'MedianAgeMale', 'AvgHouseholdSize', 'PercentMarried', 'PctNoHS18_24',\n",
    "       'PctHS18_24', 'PctSomeCol18_24', 'PctBachDeg18_24', 'PctHS25_Over',\n",
    "       'PctBachDeg25_Over', 'PctEmployed16_Over', 'PctUnemployed16_Over',\n",
    "       'PctPrivateCoverageAlone', 'PctEmpPrivCoverage', 'PctWhite', 'PctBlack',\n",
    "       'PctAsian', 'PctOtherRace', 'PctMarriedHouseholds', 'BirthRate',\n",
    "       'avgAnnCount_sq', 'avgDeathsPerYear_sq', 'incidenceRate_sq',\n",
    "       'medIncome_sq', 'povertyPercent_sq', 'studyPerCap_sq', 'MedianAge_sq',\n",
    "       'MedianAgeMale_sq', 'AvgHouseholdSize_sq', 'PercentMarried_sq',\n",
    "       'PctNoHS18_24_sq', 'PctHS18_24_sq', 'PctSomeCol18_24_sq',\n",
    "       'PctBachDeg18_24_sq', 'PctHS25_Over_sq', 'PctBachDeg25_Over_sq',\n",
    "       'PctEmployed16_Over_sq', 'PctUnemployed16_Over_sq',\n",
    "       'PctPrivateCoverageAlone_sq', 'PctEmpPrivCoverage_sq', 'PctWhite_sq',\n",
    "       'PctBlack_sq', 'PctAsian_sq', 'PctOtherRace_sq',\n",
    "       'PctMarriedHouseholds_sq', 'BirthRate_sq']\n",
    "\n",
    "state_features = ['State_ Alabama', 'State_ Alaska', 'State_ Arizona',\n",
    "       'State_ Arkansas', 'State_ California', 'State_ Colorado',\n",
    "       'State_ Connecticut', 'State_ Delaware', 'State_ District of Columbia',\n",
    "       'State_ Florida', 'State_ Georgia', 'State_ Hawaii', 'State_ Idaho',\n",
    "       'State_ Illinois', 'State_ Indiana', 'State_ Iowa', 'State_ Kansas',\n",
    "       'State_ Kentucky', 'State_ Louisiana', 'State_ Maine',\n",
    "       'State_ Maryland', 'State_ Massachusetts', 'State_ Michigan',\n",
    "       'State_ Minnesota', 'State_ Mississippi', 'State_ Missouri',\n",
    "       'State_ Montana', 'State_ Nebraska', 'State_ Nevada',\n",
    "       'State_ New Hampshire', 'State_ New Jersey', 'State_ New Mexico',\n",
    "       'State_ New York', 'State_ North Carolina', 'State_ North Dakota',\n",
    "       'State_ Ohio', 'State_ Oklahoma', 'State_ Oregon',\n",
    "       'State_ Pennsylvania', 'State_ Rhode Island', 'State_ South Carolina',\n",
    "       'State_ South Dakota', 'State_ Tennessee', 'State_ Texas',\n",
    "       'State_ Utah', 'State_ Vermont', 'State_ Virginia', 'State_ Washington',\n",
    "       'State_ West Virginia', 'State_ Wisconsin', 'State_ Wyoming']"
   ]
  },
  {
   "cell_type": "code",
   "execution_count": null,
   "id": "cfc318ac",
   "metadata": {},
   "outputs": [],
   "source": [
    "feature_cols = shantanu_features_with_sq + state_features"
   ]
  },
  {
   "cell_type": "code",
   "execution_count": null,
   "id": "c3c80297",
   "metadata": {},
   "outputs": [],
   "source": [
    "# feature_cols = ['incidenceRate','PctBachDeg25_Over', 'logPctHS25_Over','povertyPercent'\n",
    "#                 'PercentMarried','PctPublicCoverageAlone','PctUnemployed16_Over',\n",
    "#                'State_ Alabama', 'State_ Alaska', 'State_ Arizona',\n",
    "#        'State_ Arkansas', 'State_ California', 'State_ Colorado',\n",
    "#        'State_ Connecticut', 'State_ Delaware', 'State_ District of Columbia',\n",
    "#        'State_ Florida', 'State_ Georgia', 'State_ Hawaii', 'State_ Idaho',\n",
    "#        'State_ Illinois', 'State_ Indiana', 'State_ Iowa', 'State_ Kansas',\n",
    "#        'State_ Kentucky', 'State_ Louisiana', 'State_ Maine',\n",
    "#        'State_ Maryland', 'State_ Massachusetts', 'State_ Michigan',\n",
    "#        'State_ Minnesota', 'State_ Mississippi', 'State_ Missouri',\n",
    "#        'State_ Montana', 'State_ Nebraska', 'State_ Nevada',\n",
    "#        'State_ New Hampshire', 'State_ New Jersey', 'State_ New Mexico',\n",
    "#        'State_ New York', 'State_ North Carolina', 'State_ North Dakota',\n",
    "#        'State_ Ohio', 'State_ Oklahoma', 'State_ Oregon',\n",
    "#        'State_ Pennsylvania', 'State_ Rhode Island', 'State_ South Carolina',\n",
    "#        'State_ South Dakota', 'State_ Tennessee', 'State_ Texas',\n",
    "#        'State_ Utah', 'State_ Vermont', 'State_ Virginia', 'State_ Washington',\n",
    "#        'State_ West Virginia', 'State_ Wisconsin', 'State_ Wyoming']"
   ]
  },
  {
   "cell_type": "code",
   "execution_count": null,
   "id": "ec06890b",
   "metadata": {},
   "outputs": [],
   "source": [
    "df_model4 = df_new_ohe[df_new_ohe['MedianAge']<100]"
   ]
  },
  {
   "cell_type": "code",
   "execution_count": 72,
   "id": "50edc38f",
   "metadata": {},
   "outputs": [
    {
     "ename": "NameError",
     "evalue": "name 'df_model4' is not defined",
     "output_type": "error",
     "traceback": [
      "\u001b[1;31m---------------------------------------------------------------------------\u001b[0m",
      "\u001b[1;31mNameError\u001b[0m                                 Traceback (most recent call last)",
      "\u001b[1;32m~\\AppData\\Local\\Temp\\ipykernel_19016\\3912008683.py\u001b[0m in \u001b[0;36m<module>\u001b[1;34m\u001b[0m\n\u001b[1;32m----> 1\u001b[1;33m \u001b[0my\u001b[0m \u001b[1;33m=\u001b[0m \u001b[0mdf_model4\u001b[0m\u001b[1;33m[\u001b[0m\u001b[0mtarget_col\u001b[0m\u001b[1;33m]\u001b[0m\u001b[1;33m\u001b[0m\u001b[1;33m\u001b[0m\u001b[0m\n\u001b[0m\u001b[0;32m      2\u001b[0m \u001b[0mx\u001b[0m \u001b[1;33m=\u001b[0m \u001b[0mdf_model4\u001b[0m\u001b[1;33m[\u001b[0m\u001b[0mfeature_cols\u001b[0m\u001b[1;33m]\u001b[0m\u001b[1;33m\u001b[0m\u001b[1;33m\u001b[0m\u001b[0m\n",
      "\u001b[1;31mNameError\u001b[0m: name 'df_model4' is not defined"
     ]
    }
   ],
   "source": [
    "y = df_model4[target_col]\n",
    "x = df_model4[feature_cols]"
   ]
  },
  {
   "cell_type": "code",
   "execution_count": 73,
   "id": "804d164a",
   "metadata": {},
   "outputs": [
    {
     "data": {
      "text/html": [
       "<div>\n",
       "<style scoped>\n",
       "    .dataframe tbody tr th:only-of-type {\n",
       "        vertical-align: middle;\n",
       "    }\n",
       "\n",
       "    .dataframe tbody tr th {\n",
       "        vertical-align: top;\n",
       "    }\n",
       "\n",
       "    .dataframe thead th {\n",
       "        text-align: right;\n",
       "    }\n",
       "</style>\n",
       "<table border=\"1\" class=\"dataframe\">\n",
       "  <thead>\n",
       "    <tr style=\"text-align: right;\">\n",
       "      <th></th>\n",
       "      <th>const</th>\n",
       "      <th>incidenceRate</th>\n",
       "      <th>PctHS25_Over</th>\n",
       "      <th>PctBachDeg25_Over</th>\n",
       "      <th>PctPublicCoverageAlone</th>\n",
       "    </tr>\n",
       "  </thead>\n",
       "  <tbody>\n",
       "    <tr>\n",
       "      <th>0</th>\n",
       "      <td>1.0</td>\n",
       "      <td>489.8</td>\n",
       "      <td>23.2</td>\n",
       "      <td>19.6</td>\n",
       "      <td>14.0</td>\n",
       "    </tr>\n",
       "    <tr>\n",
       "      <th>1</th>\n",
       "      <td>1.0</td>\n",
       "      <td>411.6</td>\n",
       "      <td>26.0</td>\n",
       "      <td>22.7</td>\n",
       "      <td>15.3</td>\n",
       "    </tr>\n",
       "    <tr>\n",
       "      <th>2</th>\n",
       "      <td>1.0</td>\n",
       "      <td>349.7</td>\n",
       "      <td>29.0</td>\n",
       "      <td>16.0</td>\n",
       "      <td>21.1</td>\n",
       "    </tr>\n",
       "    <tr>\n",
       "      <th>3</th>\n",
       "      <td>1.0</td>\n",
       "      <td>430.4</td>\n",
       "      <td>31.6</td>\n",
       "      <td>9.3</td>\n",
       "      <td>25.0</td>\n",
       "    </tr>\n",
       "    <tr>\n",
       "      <th>4</th>\n",
       "      <td>1.0</td>\n",
       "      <td>350.1</td>\n",
       "      <td>33.4</td>\n",
       "      <td>15.0</td>\n",
       "      <td>22.7</td>\n",
       "    </tr>\n",
       "  </tbody>\n",
       "</table>\n",
       "</div>"
      ],
      "text/plain": [
       "   const  incidenceRate  PctHS25_Over  PctBachDeg25_Over  \\\n",
       "0    1.0          489.8          23.2               19.6   \n",
       "1    1.0          411.6          26.0               22.7   \n",
       "2    1.0          349.7          29.0               16.0   \n",
       "3    1.0          430.4          31.6                9.3   \n",
       "4    1.0          350.1          33.4               15.0   \n",
       "\n",
       "   PctPublicCoverageAlone  \n",
       "0                    14.0  \n",
       "1                    15.3  \n",
       "2                    21.1  \n",
       "3                    25.0  \n",
       "4                    22.7  "
      ]
     },
     "execution_count": 73,
     "metadata": {},
     "output_type": "execute_result"
    }
   ],
   "source": [
    "x.head()"
   ]
  },
  {
   "cell_type": "code",
   "execution_count": 74,
   "id": "4d3d858e",
   "metadata": {
    "scrolled": false
   },
   "outputs": [
    {
     "name": "stdout",
     "output_type": "stream",
     "text": [
      "                            OLS Regression Results                            \n",
      "==============================================================================\n",
      "Dep. Variable:       TARGET_deathRate   R-squared:                       0.460\n",
      "Model:                            OLS   Adj. R-squared:                  0.459\n",
      "Method:                 Least Squares   F-statistic:                     648.1\n",
      "Date:                Mon, 29 Jan 2024   Prob (F-statistic):               0.00\n",
      "Time:                        16:00:07   Log-Likelihood:                -13510.\n",
      "No. Observations:                3047   AIC:                         2.703e+04\n",
      "Df Residuals:                    3042   BIC:                         2.706e+04\n",
      "Df Model:                           4                                         \n",
      "Covariance Type:            nonrobust                                         \n",
      "==========================================================================================\n",
      "                             coef    std err          t      P>|t|      [0.025      0.975]\n",
      "------------------------------------------------------------------------------------------\n",
      "const                     63.6430      5.627     11.310      0.000      52.609      74.676\n",
      "incidenceRate              0.2124      0.007     30.956      0.000       0.199       0.226\n",
      "PctHS25_Over               0.3933      0.083      4.767      0.000       0.232       0.555\n",
      "PctBachDeg25_Over         -1.2332      0.128     -9.613      0.000      -1.485      -0.982\n",
      "PctPublicCoverageAlone     1.1688      0.079     14.716      0.000       1.013       1.325\n",
      "==============================================================================\n",
      "Omnibus:                      158.488   Durbin-Watson:                   1.671\n",
      "Prob(Omnibus):                  0.000   Jarque-Bera (JB):              528.485\n",
      "Skew:                           0.161   Prob(JB):                    1.74e-115\n",
      "Kurtosis:                       5.015   Cond. No.                     6.91e+03\n",
      "==============================================================================\n",
      "\n",
      "Notes:\n",
      "[1] Standard Errors assume that the covariance matrix of the errors is correctly specified.\n",
      "[2] The condition number is large, 6.91e+03. This might indicate that there are\n",
      "strong multicollinearity or other numerical problems.\n"
     ]
    }
   ],
   "source": [
    "import statsmodels.api as sm\n",
    "x = sm.add_constant(x)\n",
    "model = sm.OLS(y,x).fit()\n",
    "print(model.summary())"
   ]
  },
  {
   "cell_type": "code",
   "execution_count": 75,
   "id": "66c6fa45",
   "metadata": {},
   "outputs": [
    {
     "data": {
      "text/plain": [
       "const                      4.426814e-29\n",
       "incidenceRate             3.777959e-183\n",
       "PctHS25_Over               1.959764e-06\n",
       "PctBachDeg25_Over          1.423308e-21\n",
       "PctPublicCoverageAlone     2.096150e-47\n",
       "dtype: float64"
      ]
     },
     "execution_count": 75,
     "metadata": {},
     "output_type": "execute_result"
    }
   ],
   "source": [
    "model.pvalues[model.pvalues<0.05]"
   ]
  },
  {
   "cell_type": "code",
   "execution_count": 76,
   "id": "98b4f226",
   "metadata": {},
   "outputs": [
    {
     "name": "stdout",
     "output_type": "stream",
     "text": [
      "\n",
      "incidenceRate            \n",
      "PctBachDeg25_Over         \n",
      "logPctHS25_Over           \n",
      "povertyPercent            \n",
      "PercentMarried            \n",
      "State_ Alabama            \n",
      "State_ Alaska             \n",
      "State_ Arizona            \n",
      "State_ Arkansas           \n",
      "State_ California         \n",
      "State_ Colorado           \n",
      "State_ Idaho              \n",
      "State_ Indiana            \n",
      "State_ Iowa               \n",
      "State_ Kentucky           \n",
      "State_ Louisiana          \n",
      "State_ Maryland           \n",
      "State_ Michigan           \n",
      "State_ Minnesota          \n",
      "State_ Mississippi        \n",
      "State_ Missouri           \n",
      "State_ Montana            \n",
      "State_ Nebraska           \n",
      "State_ New Mexico         \n",
      "State_ New York           \n",
      "State_ Ohio               \n",
      "State_ Oklahoma           \n",
      "State_ Pennsylvania       \n",
      "State_ South Carolina     \n",
      "State_ South Dakota       \n",
      "State_ Tennessee          \n",
      "State_ Texas              \n",
      "State_ Utah               \n",
      "State_ Virginia           \n",
      "State_ West Virginia\n",
      "\n"
     ]
    }
   ],
   "source": [
    "import re\n",
    "\n",
    "data = \"\"\"\n",
    "incidenceRate            2.873845e-140\n",
    "PctBachDeg25_Over         1.061377e-12\n",
    "logPctHS25_Over           4.858507e-04\n",
    "povertyPercent            2.225481e-15\n",
    "PercentMarried            1.225926e-02\n",
    "State_ Alabama            1.395939e-02\n",
    "State_ Alaska             4.082081e-11\n",
    "State_ Arizona            1.437961e-02\n",
    "State_ Arkansas           4.018927e-15\n",
    "State_ California         8.274307e-03\n",
    "State_ Colorado           2.558395e-05\n",
    "State_ Idaho              4.832209e-06\n",
    "State_ Indiana            1.013368e-06\n",
    "State_ Iowa               1.188837e-04\n",
    "State_ Kentucky           3.067282e-16\n",
    "State_ Louisiana          4.939744e-02\n",
    "State_ Maryland           4.180895e-02\n",
    "State_ Michigan           4.464997e-02\n",
    "State_ Minnesota          4.884255e-04\n",
    "State_ Mississippi        3.231332e-08\n",
    "State_ Missouri           1.362148e-09\n",
    "State_ Montana            2.780702e-03\n",
    "State_ Nebraska           1.693539e-02\n",
    "State_ New Mexico         4.198097e-04\n",
    "State_ New York           5.785021e-06\n",
    "State_ Ohio               7.039270e-05\n",
    "State_ Oklahoma           1.517627e-15\n",
    "State_ Pennsylvania       8.807461e-03\n",
    "State_ South Carolina     2.410607e-02\n",
    "State_ South Dakota       3.440190e-02\n",
    "State_ Tennessee          1.082561e-10\n",
    "State_ Texas              6.115633e-03\n",
    "State_ Utah               1.412702e-07\n",
    "State_ Virginia           5.144065e-11\n",
    "State_ West Virginia\n",
    "\"\"\"\n",
    "\n",
    "# Remove numbers using regular expression\n",
    "result = re.sub(r'\\d+\\.\\d+e[-+]?\\d+', '', data)\n",
    "\n",
    "# Print the result\n",
    "print(result)\n"
   ]
  },
  {
   "cell_type": "markdown",
   "id": "1c4d8df6",
   "metadata": {},
   "source": [
    "Model 5"
   ]
  },
  {
   "cell_type": "code",
   "execution_count": 77,
   "id": "448c29b6",
   "metadata": {
    "scrolled": true
   },
   "outputs": [
    {
     "ename": "ValueError",
     "evalue": "Pandas data cast to numpy dtype of object. Check input data with np.asarray(data).",
     "output_type": "error",
     "traceback": [
      "\u001b[1;31m---------------------------------------------------------------------------\u001b[0m",
      "\u001b[1;31mValueError\u001b[0m                                Traceback (most recent call last)",
      "\u001b[1;32m~\\AppData\\Local\\Temp\\ipykernel_19016\\169309879.py\u001b[0m in \u001b[0;36m<module>\u001b[1;34m\u001b[0m\n\u001b[0;32m      3\u001b[0m \u001b[1;32mimport\u001b[0m \u001b[0mstatsmodels\u001b[0m\u001b[1;33m.\u001b[0m\u001b[0mapi\u001b[0m \u001b[1;32mas\u001b[0m \u001b[0msm\u001b[0m\u001b[1;33m\u001b[0m\u001b[1;33m\u001b[0m\u001b[0m\n\u001b[0;32m      4\u001b[0m \u001b[0mx2\u001b[0m \u001b[1;33m=\u001b[0m \u001b[0msm\u001b[0m\u001b[1;33m.\u001b[0m\u001b[0madd_constant\u001b[0m\u001b[1;33m(\u001b[0m\u001b[0mx2\u001b[0m\u001b[1;33m)\u001b[0m\u001b[1;33m\u001b[0m\u001b[1;33m\u001b[0m\u001b[0m\n\u001b[1;32m----> 5\u001b[1;33m \u001b[0mmodel\u001b[0m \u001b[1;33m=\u001b[0m \u001b[0msm\u001b[0m\u001b[1;33m.\u001b[0m\u001b[0mOLS\u001b[0m\u001b[1;33m(\u001b[0m\u001b[0my\u001b[0m\u001b[1;33m,\u001b[0m\u001b[0mx2\u001b[0m\u001b[1;33m)\u001b[0m\u001b[1;33m.\u001b[0m\u001b[0mfit\u001b[0m\u001b[1;33m(\u001b[0m\u001b[1;33m)\u001b[0m\u001b[1;33m\u001b[0m\u001b[1;33m\u001b[0m\u001b[0m\n\u001b[0m\u001b[0;32m      6\u001b[0m \u001b[0mprint\u001b[0m\u001b[1;33m(\u001b[0m\u001b[0mmodel\u001b[0m\u001b[1;33m.\u001b[0m\u001b[0msummary\u001b[0m\u001b[1;33m(\u001b[0m\u001b[1;33m)\u001b[0m\u001b[1;33m)\u001b[0m\u001b[1;33m\u001b[0m\u001b[1;33m\u001b[0m\u001b[0m\n",
      "\u001b[1;32m~\\Downloads\\Installations\\Anaconda\\lib\\site-packages\\statsmodels\\regression\\linear_model.py\u001b[0m in \u001b[0;36m__init__\u001b[1;34m(self, endog, exog, missing, hasconst, **kwargs)\u001b[0m\n\u001b[0;32m    888\u001b[0m                    \"An exception will be raised in the next version.\")\n\u001b[0;32m    889\u001b[0m             \u001b[0mwarnings\u001b[0m\u001b[1;33m.\u001b[0m\u001b[0mwarn\u001b[0m\u001b[1;33m(\u001b[0m\u001b[0mmsg\u001b[0m\u001b[1;33m,\u001b[0m \u001b[0mValueWarning\u001b[0m\u001b[1;33m)\u001b[0m\u001b[1;33m\u001b[0m\u001b[1;33m\u001b[0m\u001b[0m\n\u001b[1;32m--> 890\u001b[1;33m         super(OLS, self).__init__(endog, exog, missing=missing,\n\u001b[0m\u001b[0;32m    891\u001b[0m                                   hasconst=hasconst, **kwargs)\n\u001b[0;32m    892\u001b[0m         \u001b[1;32mif\u001b[0m \u001b[1;34m\"weights\"\u001b[0m \u001b[1;32min\u001b[0m \u001b[0mself\u001b[0m\u001b[1;33m.\u001b[0m\u001b[0m_init_keys\u001b[0m\u001b[1;33m:\u001b[0m\u001b[1;33m\u001b[0m\u001b[1;33m\u001b[0m\u001b[0m\n",
      "\u001b[1;32m~\\Downloads\\Installations\\Anaconda\\lib\\site-packages\\statsmodels\\regression\\linear_model.py\u001b[0m in \u001b[0;36m__init__\u001b[1;34m(self, endog, exog, weights, missing, hasconst, **kwargs)\u001b[0m\n\u001b[0;32m    715\u001b[0m         \u001b[1;32melse\u001b[0m\u001b[1;33m:\u001b[0m\u001b[1;33m\u001b[0m\u001b[1;33m\u001b[0m\u001b[0m\n\u001b[0;32m    716\u001b[0m             \u001b[0mweights\u001b[0m \u001b[1;33m=\u001b[0m \u001b[0mweights\u001b[0m\u001b[1;33m.\u001b[0m\u001b[0msqueeze\u001b[0m\u001b[1;33m(\u001b[0m\u001b[1;33m)\u001b[0m\u001b[1;33m\u001b[0m\u001b[1;33m\u001b[0m\u001b[0m\n\u001b[1;32m--> 717\u001b[1;33m         super(WLS, self).__init__(endog, exog, missing=missing,\n\u001b[0m\u001b[0;32m    718\u001b[0m                                   weights=weights, hasconst=hasconst, **kwargs)\n\u001b[0;32m    719\u001b[0m         \u001b[0mnobs\u001b[0m \u001b[1;33m=\u001b[0m \u001b[0mself\u001b[0m\u001b[1;33m.\u001b[0m\u001b[0mexog\u001b[0m\u001b[1;33m.\u001b[0m\u001b[0mshape\u001b[0m\u001b[1;33m[\u001b[0m\u001b[1;36m0\u001b[0m\u001b[1;33m]\u001b[0m\u001b[1;33m\u001b[0m\u001b[1;33m\u001b[0m\u001b[0m\n",
      "\u001b[1;32m~\\Downloads\\Installations\\Anaconda\\lib\\site-packages\\statsmodels\\regression\\linear_model.py\u001b[0m in \u001b[0;36m__init__\u001b[1;34m(self, endog, exog, **kwargs)\u001b[0m\n\u001b[0;32m    189\u001b[0m     \"\"\"\n\u001b[0;32m    190\u001b[0m     \u001b[1;32mdef\u001b[0m \u001b[0m__init__\u001b[0m\u001b[1;33m(\u001b[0m\u001b[0mself\u001b[0m\u001b[1;33m,\u001b[0m \u001b[0mendog\u001b[0m\u001b[1;33m,\u001b[0m \u001b[0mexog\u001b[0m\u001b[1;33m,\u001b[0m \u001b[1;33m**\u001b[0m\u001b[0mkwargs\u001b[0m\u001b[1;33m)\u001b[0m\u001b[1;33m:\u001b[0m\u001b[1;33m\u001b[0m\u001b[1;33m\u001b[0m\u001b[0m\n\u001b[1;32m--> 191\u001b[1;33m         \u001b[0msuper\u001b[0m\u001b[1;33m(\u001b[0m\u001b[0mRegressionModel\u001b[0m\u001b[1;33m,\u001b[0m \u001b[0mself\u001b[0m\u001b[1;33m)\u001b[0m\u001b[1;33m.\u001b[0m\u001b[0m__init__\u001b[0m\u001b[1;33m(\u001b[0m\u001b[0mendog\u001b[0m\u001b[1;33m,\u001b[0m \u001b[0mexog\u001b[0m\u001b[1;33m,\u001b[0m \u001b[1;33m**\u001b[0m\u001b[0mkwargs\u001b[0m\u001b[1;33m)\u001b[0m\u001b[1;33m\u001b[0m\u001b[1;33m\u001b[0m\u001b[0m\n\u001b[0m\u001b[0;32m    192\u001b[0m         \u001b[0mself\u001b[0m\u001b[1;33m.\u001b[0m\u001b[0m_data_attr\u001b[0m\u001b[1;33m.\u001b[0m\u001b[0mextend\u001b[0m\u001b[1;33m(\u001b[0m\u001b[1;33m[\u001b[0m\u001b[1;34m'pinv_wexog'\u001b[0m\u001b[1;33m,\u001b[0m \u001b[1;34m'wendog'\u001b[0m\u001b[1;33m,\u001b[0m \u001b[1;34m'wexog'\u001b[0m\u001b[1;33m,\u001b[0m \u001b[1;34m'weights'\u001b[0m\u001b[1;33m]\u001b[0m\u001b[1;33m)\u001b[0m\u001b[1;33m\u001b[0m\u001b[1;33m\u001b[0m\u001b[0m\n\u001b[0;32m    193\u001b[0m \u001b[1;33m\u001b[0m\u001b[0m\n",
      "\u001b[1;32m~\\Downloads\\Installations\\Anaconda\\lib\\site-packages\\statsmodels\\base\\model.py\u001b[0m in \u001b[0;36m__init__\u001b[1;34m(self, endog, exog, **kwargs)\u001b[0m\n\u001b[0;32m    265\u001b[0m \u001b[1;33m\u001b[0m\u001b[0m\n\u001b[0;32m    266\u001b[0m     \u001b[1;32mdef\u001b[0m \u001b[0m__init__\u001b[0m\u001b[1;33m(\u001b[0m\u001b[0mself\u001b[0m\u001b[1;33m,\u001b[0m \u001b[0mendog\u001b[0m\u001b[1;33m,\u001b[0m \u001b[0mexog\u001b[0m\u001b[1;33m=\u001b[0m\u001b[1;32mNone\u001b[0m\u001b[1;33m,\u001b[0m \u001b[1;33m**\u001b[0m\u001b[0mkwargs\u001b[0m\u001b[1;33m)\u001b[0m\u001b[1;33m:\u001b[0m\u001b[1;33m\u001b[0m\u001b[1;33m\u001b[0m\u001b[0m\n\u001b[1;32m--> 267\u001b[1;33m         \u001b[0msuper\u001b[0m\u001b[1;33m(\u001b[0m\u001b[1;33m)\u001b[0m\u001b[1;33m.\u001b[0m\u001b[0m__init__\u001b[0m\u001b[1;33m(\u001b[0m\u001b[0mendog\u001b[0m\u001b[1;33m,\u001b[0m \u001b[0mexog\u001b[0m\u001b[1;33m,\u001b[0m \u001b[1;33m**\u001b[0m\u001b[0mkwargs\u001b[0m\u001b[1;33m)\u001b[0m\u001b[1;33m\u001b[0m\u001b[1;33m\u001b[0m\u001b[0m\n\u001b[0m\u001b[0;32m    268\u001b[0m         \u001b[0mself\u001b[0m\u001b[1;33m.\u001b[0m\u001b[0minitialize\u001b[0m\u001b[1;33m(\u001b[0m\u001b[1;33m)\u001b[0m\u001b[1;33m\u001b[0m\u001b[1;33m\u001b[0m\u001b[0m\n\u001b[0;32m    269\u001b[0m \u001b[1;33m\u001b[0m\u001b[0m\n",
      "\u001b[1;32m~\\Downloads\\Installations\\Anaconda\\lib\\site-packages\\statsmodels\\base\\model.py\u001b[0m in \u001b[0;36m__init__\u001b[1;34m(self, endog, exog, **kwargs)\u001b[0m\n\u001b[0;32m     90\u001b[0m         \u001b[0mmissing\u001b[0m \u001b[1;33m=\u001b[0m \u001b[0mkwargs\u001b[0m\u001b[1;33m.\u001b[0m\u001b[0mpop\u001b[0m\u001b[1;33m(\u001b[0m\u001b[1;34m'missing'\u001b[0m\u001b[1;33m,\u001b[0m \u001b[1;34m'none'\u001b[0m\u001b[1;33m)\u001b[0m\u001b[1;33m\u001b[0m\u001b[1;33m\u001b[0m\u001b[0m\n\u001b[0;32m     91\u001b[0m         \u001b[0mhasconst\u001b[0m \u001b[1;33m=\u001b[0m \u001b[0mkwargs\u001b[0m\u001b[1;33m.\u001b[0m\u001b[0mpop\u001b[0m\u001b[1;33m(\u001b[0m\u001b[1;34m'hasconst'\u001b[0m\u001b[1;33m,\u001b[0m \u001b[1;32mNone\u001b[0m\u001b[1;33m)\u001b[0m\u001b[1;33m\u001b[0m\u001b[1;33m\u001b[0m\u001b[0m\n\u001b[1;32m---> 92\u001b[1;33m         self.data = self._handle_data(endog, exog, missing, hasconst,\n\u001b[0m\u001b[0;32m     93\u001b[0m                                       **kwargs)\n\u001b[0;32m     94\u001b[0m         \u001b[0mself\u001b[0m\u001b[1;33m.\u001b[0m\u001b[0mk_constant\u001b[0m \u001b[1;33m=\u001b[0m \u001b[0mself\u001b[0m\u001b[1;33m.\u001b[0m\u001b[0mdata\u001b[0m\u001b[1;33m.\u001b[0m\u001b[0mk_constant\u001b[0m\u001b[1;33m\u001b[0m\u001b[1;33m\u001b[0m\u001b[0m\n",
      "\u001b[1;32m~\\Downloads\\Installations\\Anaconda\\lib\\site-packages\\statsmodels\\base\\model.py\u001b[0m in \u001b[0;36m_handle_data\u001b[1;34m(self, endog, exog, missing, hasconst, **kwargs)\u001b[0m\n\u001b[0;32m    130\u001b[0m \u001b[1;33m\u001b[0m\u001b[0m\n\u001b[0;32m    131\u001b[0m     \u001b[1;32mdef\u001b[0m \u001b[0m_handle_data\u001b[0m\u001b[1;33m(\u001b[0m\u001b[0mself\u001b[0m\u001b[1;33m,\u001b[0m \u001b[0mendog\u001b[0m\u001b[1;33m,\u001b[0m \u001b[0mexog\u001b[0m\u001b[1;33m,\u001b[0m \u001b[0mmissing\u001b[0m\u001b[1;33m,\u001b[0m \u001b[0mhasconst\u001b[0m\u001b[1;33m,\u001b[0m \u001b[1;33m**\u001b[0m\u001b[0mkwargs\u001b[0m\u001b[1;33m)\u001b[0m\u001b[1;33m:\u001b[0m\u001b[1;33m\u001b[0m\u001b[1;33m\u001b[0m\u001b[0m\n\u001b[1;32m--> 132\u001b[1;33m         \u001b[0mdata\u001b[0m \u001b[1;33m=\u001b[0m \u001b[0mhandle_data\u001b[0m\u001b[1;33m(\u001b[0m\u001b[0mendog\u001b[0m\u001b[1;33m,\u001b[0m \u001b[0mexog\u001b[0m\u001b[1;33m,\u001b[0m \u001b[0mmissing\u001b[0m\u001b[1;33m,\u001b[0m \u001b[0mhasconst\u001b[0m\u001b[1;33m,\u001b[0m \u001b[1;33m**\u001b[0m\u001b[0mkwargs\u001b[0m\u001b[1;33m)\u001b[0m\u001b[1;33m\u001b[0m\u001b[1;33m\u001b[0m\u001b[0m\n\u001b[0m\u001b[0;32m    133\u001b[0m         \u001b[1;31m# kwargs arrays could have changed, easier to just attach here\u001b[0m\u001b[1;33m\u001b[0m\u001b[1;33m\u001b[0m\u001b[0m\n\u001b[0;32m    134\u001b[0m         \u001b[1;32mfor\u001b[0m \u001b[0mkey\u001b[0m \u001b[1;32min\u001b[0m \u001b[0mkwargs\u001b[0m\u001b[1;33m:\u001b[0m\u001b[1;33m\u001b[0m\u001b[1;33m\u001b[0m\u001b[0m\n",
      "\u001b[1;32m~\\Downloads\\Installations\\Anaconda\\lib\\site-packages\\statsmodels\\base\\data.py\u001b[0m in \u001b[0;36mhandle_data\u001b[1;34m(endog, exog, missing, hasconst, **kwargs)\u001b[0m\n\u001b[0;32m    671\u001b[0m \u001b[1;33m\u001b[0m\u001b[0m\n\u001b[0;32m    672\u001b[0m     \u001b[0mklass\u001b[0m \u001b[1;33m=\u001b[0m \u001b[0mhandle_data_class_factory\u001b[0m\u001b[1;33m(\u001b[0m\u001b[0mendog\u001b[0m\u001b[1;33m,\u001b[0m \u001b[0mexog\u001b[0m\u001b[1;33m)\u001b[0m\u001b[1;33m\u001b[0m\u001b[1;33m\u001b[0m\u001b[0m\n\u001b[1;32m--> 673\u001b[1;33m     return klass(endog, exog=exog, missing=missing, hasconst=hasconst,\n\u001b[0m\u001b[0;32m    674\u001b[0m                  **kwargs)\n",
      "\u001b[1;32m~\\Downloads\\Installations\\Anaconda\\lib\\site-packages\\statsmodels\\base\\data.py\u001b[0m in \u001b[0;36m__init__\u001b[1;34m(self, endog, exog, missing, hasconst, **kwargs)\u001b[0m\n\u001b[0;32m     80\u001b[0m             \u001b[0mself\u001b[0m\u001b[1;33m.\u001b[0m\u001b[0morig_endog\u001b[0m \u001b[1;33m=\u001b[0m \u001b[0mendog\u001b[0m\u001b[1;33m\u001b[0m\u001b[1;33m\u001b[0m\u001b[0m\n\u001b[0;32m     81\u001b[0m             \u001b[0mself\u001b[0m\u001b[1;33m.\u001b[0m\u001b[0morig_exog\u001b[0m \u001b[1;33m=\u001b[0m \u001b[0mexog\u001b[0m\u001b[1;33m\u001b[0m\u001b[1;33m\u001b[0m\u001b[0m\n\u001b[1;32m---> 82\u001b[1;33m             \u001b[0mself\u001b[0m\u001b[1;33m.\u001b[0m\u001b[0mendog\u001b[0m\u001b[1;33m,\u001b[0m \u001b[0mself\u001b[0m\u001b[1;33m.\u001b[0m\u001b[0mexog\u001b[0m \u001b[1;33m=\u001b[0m \u001b[0mself\u001b[0m\u001b[1;33m.\u001b[0m\u001b[0m_convert_endog_exog\u001b[0m\u001b[1;33m(\u001b[0m\u001b[0mendog\u001b[0m\u001b[1;33m,\u001b[0m \u001b[0mexog\u001b[0m\u001b[1;33m)\u001b[0m\u001b[1;33m\u001b[0m\u001b[1;33m\u001b[0m\u001b[0m\n\u001b[0m\u001b[0;32m     83\u001b[0m \u001b[1;33m\u001b[0m\u001b[0m\n\u001b[0;32m     84\u001b[0m         \u001b[0mself\u001b[0m\u001b[1;33m.\u001b[0m\u001b[0mconst_idx\u001b[0m \u001b[1;33m=\u001b[0m \u001b[1;32mNone\u001b[0m\u001b[1;33m\u001b[0m\u001b[1;33m\u001b[0m\u001b[0m\n",
      "\u001b[1;32m~\\Downloads\\Installations\\Anaconda\\lib\\site-packages\\statsmodels\\base\\data.py\u001b[0m in \u001b[0;36m_convert_endog_exog\u001b[1;34m(self, endog, exog)\u001b[0m\n\u001b[0;32m    505\u001b[0m         \u001b[0mexog\u001b[0m \u001b[1;33m=\u001b[0m \u001b[0mexog\u001b[0m \u001b[1;32mif\u001b[0m \u001b[0mexog\u001b[0m \u001b[1;32mis\u001b[0m \u001b[1;32mNone\u001b[0m \u001b[1;32melse\u001b[0m \u001b[0mnp\u001b[0m\u001b[1;33m.\u001b[0m\u001b[0masarray\u001b[0m\u001b[1;33m(\u001b[0m\u001b[0mexog\u001b[0m\u001b[1;33m)\u001b[0m\u001b[1;33m\u001b[0m\u001b[1;33m\u001b[0m\u001b[0m\n\u001b[0;32m    506\u001b[0m         \u001b[1;32mif\u001b[0m \u001b[0mendog\u001b[0m\u001b[1;33m.\u001b[0m\u001b[0mdtype\u001b[0m \u001b[1;33m==\u001b[0m \u001b[0mobject\u001b[0m \u001b[1;32mor\u001b[0m \u001b[0mexog\u001b[0m \u001b[1;32mis\u001b[0m \u001b[1;32mnot\u001b[0m \u001b[1;32mNone\u001b[0m \u001b[1;32mand\u001b[0m \u001b[0mexog\u001b[0m\u001b[1;33m.\u001b[0m\u001b[0mdtype\u001b[0m \u001b[1;33m==\u001b[0m \u001b[0mobject\u001b[0m\u001b[1;33m:\u001b[0m\u001b[1;33m\u001b[0m\u001b[1;33m\u001b[0m\u001b[0m\n\u001b[1;32m--> 507\u001b[1;33m             raise ValueError(\"Pandas data cast to numpy dtype of object. \"\n\u001b[0m\u001b[0;32m    508\u001b[0m                              \"Check input data with np.asarray(data).\")\n\u001b[0;32m    509\u001b[0m         \u001b[1;32mreturn\u001b[0m \u001b[0msuper\u001b[0m\u001b[1;33m(\u001b[0m\u001b[0mPandasData\u001b[0m\u001b[1;33m,\u001b[0m \u001b[0mself\u001b[0m\u001b[1;33m)\u001b[0m\u001b[1;33m.\u001b[0m\u001b[0m_convert_endog_exog\u001b[0m\u001b[1;33m(\u001b[0m\u001b[0mendog\u001b[0m\u001b[1;33m,\u001b[0m \u001b[0mexog\u001b[0m\u001b[1;33m)\u001b[0m\u001b[1;33m\u001b[0m\u001b[1;33m\u001b[0m\u001b[0m\n",
      "\u001b[1;31mValueError\u001b[0m: Pandas data cast to numpy dtype of object. Check input data with np.asarray(data)."
     ]
    }
   ],
   "source": [
    "vif_cols=['MedianAgeFemale','PctPublicCoverage','PctPublicCoverageAlone','popEst2015','PctPrivateCoverage','MedianAgeFemale']\n",
    "x2 = df.drop(vif_cols+cat_cols, axis=1)\n",
    "import statsmodels.api as sm\n",
    "x2 = sm.add_constant(x2)\n",
    "model = sm.OLS(y,x2).fit()\n",
    "print(model.summary())"
   ]
  },
  {
   "cell_type": "code",
   "execution_count": 78,
   "id": "4a81765e",
   "metadata": {},
   "outputs": [
    {
     "ename": "NameError",
     "evalue": "name 'df_new_ohe' is not defined",
     "output_type": "error",
     "traceback": [
      "\u001b[1;31m---------------------------------------------------------------------------\u001b[0m",
      "\u001b[1;31mNameError\u001b[0m                                 Traceback (most recent call last)",
      "\u001b[1;32m~\\AppData\\Local\\Temp\\ipykernel_19016\\2672325191.py\u001b[0m in \u001b[0;36m<module>\u001b[1;34m\u001b[0m\n\u001b[0;32m      6\u001b[0m \u001b[1;31m# Fill null values with the mean for each specified column\u001b[0m\u001b[1;33m\u001b[0m\u001b[1;33m\u001b[0m\u001b[0m\n\u001b[0;32m      7\u001b[0m \u001b[1;32mfor\u001b[0m \u001b[0mcolumn\u001b[0m \u001b[1;32min\u001b[0m \u001b[0mcolumns_to_fill\u001b[0m\u001b[1;33m:\u001b[0m\u001b[1;33m\u001b[0m\u001b[1;33m\u001b[0m\u001b[0m\n\u001b[1;32m----> 8\u001b[1;33m     \u001b[0mmean_value\u001b[0m \u001b[1;33m=\u001b[0m \u001b[0mdf_new_ohe\u001b[0m\u001b[1;33m[\u001b[0m\u001b[0mcolumn\u001b[0m\u001b[1;33m]\u001b[0m\u001b[1;33m.\u001b[0m\u001b[0mmean\u001b[0m\u001b[1;33m(\u001b[0m\u001b[1;33m)\u001b[0m\u001b[1;33m\u001b[0m\u001b[1;33m\u001b[0m\u001b[0m\n\u001b[0m\u001b[0;32m      9\u001b[0m     \u001b[0mdf_new_ohe\u001b[0m\u001b[1;33m[\u001b[0m\u001b[0mcolumn\u001b[0m\u001b[1;33m]\u001b[0m\u001b[1;33m.\u001b[0m\u001b[0mfillna\u001b[0m\u001b[1;33m(\u001b[0m\u001b[0mmean_value\u001b[0m\u001b[1;33m,\u001b[0m \u001b[0minplace\u001b[0m\u001b[1;33m=\u001b[0m\u001b[1;32mTrue\u001b[0m\u001b[1;33m)\u001b[0m\u001b[1;33m\u001b[0m\u001b[1;33m\u001b[0m\u001b[0m\n\u001b[0;32m     10\u001b[0m \u001b[1;33m\u001b[0m\u001b[0m\n",
      "\u001b[1;31mNameError\u001b[0m: name 'df_new_ohe' is not defined"
     ]
    }
   ],
   "source": [
    "import pandas as pd\n",
    "\n",
    "# Assuming 'df' is your DataFrame\n",
    "columns_to_fill = ['PctSomeCol18_24','PctPrivateCoverageAlone','PctEmployed16_Over']  # Replace with your actual column names\n",
    "\n",
    "# Fill null values with the mean for each specified column\n",
    "for column in columns_to_fill:\n",
    "    mean_value = df_new_ohe[column].mean()\n",
    "    df_new_ohe[column].fillna(mean_value, inplace=True)\n",
    "\n",
    "# Now 'df' has null values in the specified columns filled with the mean"
   ]
  },
  {
   "cell_type": "markdown",
   "id": "49cd58eb",
   "metadata": {},
   "source": [
    "## Data Exploration"
   ]
  },
  {
   "cell_type": "code",
   "execution_count": 79,
   "id": "35f2ba09",
   "metadata": {},
   "outputs": [
    {
     "ename": "NameError",
     "evalue": "name 'df_new_ohe' is not defined",
     "output_type": "error",
     "traceback": [
      "\u001b[1;31m---------------------------------------------------------------------------\u001b[0m",
      "\u001b[1;31mNameError\u001b[0m                                 Traceback (most recent call last)",
      "\u001b[1;32m~\\AppData\\Local\\Temp\\ipykernel_19016\\2273798942.py\u001b[0m in \u001b[0;36m<module>\u001b[1;34m\u001b[0m\n\u001b[1;32m----> 1\u001b[1;33m \u001b[0mdf_explore\u001b[0m \u001b[1;33m=\u001b[0m \u001b[0mdf_new_ohe\u001b[0m\u001b[1;33m[\u001b[0m\u001b[1;33m(\u001b[0m\u001b[0mdf_new_ohe\u001b[0m\u001b[1;33m[\u001b[0m\u001b[1;34m'MedianAge'\u001b[0m\u001b[1;33m]\u001b[0m\u001b[1;33m<\u001b[0m\u001b[1;36m100\u001b[0m\u001b[1;33m)\u001b[0m \u001b[1;33m&\u001b[0m \u001b[1;33m(\u001b[0m\u001b[0mdf_new_ohe\u001b[0m\u001b[1;33m[\u001b[0m\u001b[1;34m'AvgHouseholdSize'\u001b[0m\u001b[1;33m]\u001b[0m\u001b[1;33m>\u001b[0m\u001b[1;36m1\u001b[0m\u001b[1;33m)\u001b[0m\u001b[1;33m]\u001b[0m\u001b[1;33m\u001b[0m\u001b[1;33m\u001b[0m\u001b[0m\n\u001b[0m",
      "\u001b[1;31mNameError\u001b[0m: name 'df_new_ohe' is not defined"
     ]
    }
   ],
   "source": [
    "df_explore = df_new_ohe[(df_new_ohe['MedianAge']<100) & (df_new_ohe['AvgHouseholdSize']>1)]"
   ]
  },
  {
   "cell_type": "code",
   "execution_count": 80,
   "id": "6ca56e39",
   "metadata": {},
   "outputs": [
    {
     "data": {
      "text/plain": [
       "Index(['const', 'incidenceRate', 'PctHS25_Over', 'PctBachDeg25_Over',\n",
       "       'PctPublicCoverageAlone'],\n",
       "      dtype='object')"
      ]
     },
     "execution_count": 80,
     "metadata": {},
     "output_type": "execute_result"
    }
   ],
   "source": [
    "x.columns"
   ]
  },
  {
   "cell_type": "code",
   "execution_count": 81,
   "id": "65b00fd4",
   "metadata": {
    "scrolled": true
   },
   "outputs": [
    {
     "ename": "SyntaxError",
     "evalue": "invalid syntax (4094089209.py, line 5)",
     "output_type": "error",
     "traceback": [
      "\u001b[1;36m  File \u001b[1;32m\"C:\\Users\\shagu\\AppData\\Local\\Temp\\ipykernel_19016\\4094089209.py\"\u001b[1;36m, line \u001b[1;32m5\u001b[0m\n\u001b[1;33m    sns.scatterplot(y=y. x= x[{i}] )\u001b[0m\n\u001b[1;37m                          ^\u001b[0m\n\u001b[1;31mSyntaxError\u001b[0m\u001b[1;31m:\u001b[0m invalid syntax\n"
     ]
    }
   ],
   "source": [
    "import matplotlib.pyplot as plt\n",
    "x_cols = x[['MedianAge','PercentMarried','PctMarriedHouseholds','PctEmployed16_Over']]\n",
    "\n",
    "for i in x_cols.columns:\n",
    "    sns.scatterplot(y=y. x= x[{i}] )\n",
    "\n",
    "\n"
   ]
  },
  {
   "cell_type": "code",
   "execution_count": 82,
   "id": "68a9f000",
   "metadata": {},
   "outputs": [
    {
     "ename": "NameError",
     "evalue": "name 'df_explore' is not defined",
     "output_type": "error",
     "traceback": [
      "\u001b[1;31m---------------------------------------------------------------------------\u001b[0m",
      "\u001b[1;31mNameError\u001b[0m                                 Traceback (most recent call last)",
      "\u001b[1;32m~\\AppData\\Local\\Temp\\ipykernel_19016\\576760889.py\u001b[0m in \u001b[0;36m<module>\u001b[1;34m\u001b[0m\n\u001b[0;32m      3\u001b[0m \u001b[0mx_col\u001b[0m \u001b[1;33m=\u001b[0m \u001b[1;34m'medIncome'\u001b[0m\u001b[1;33m\u001b[0m\u001b[1;33m\u001b[0m\u001b[0m\n\u001b[0;32m      4\u001b[0m \u001b[0my_col\u001b[0m \u001b[1;33m=\u001b[0m \u001b[0mtarget_col\u001b[0m\u001b[1;33m\u001b[0m\u001b[1;33m\u001b[0m\u001b[0m\n\u001b[1;32m----> 5\u001b[1;33m \u001b[0mx\u001b[0m \u001b[1;33m=\u001b[0m \u001b[0mdf_explore\u001b[0m\u001b[1;33m[\u001b[0m\u001b[0mx_col\u001b[0m\u001b[1;33m]\u001b[0m\u001b[1;33m\u001b[0m\u001b[1;33m\u001b[0m\u001b[0m\n\u001b[0m\u001b[0;32m      6\u001b[0m \u001b[0my\u001b[0m \u001b[1;33m=\u001b[0m \u001b[0mdf_explore\u001b[0m\u001b[1;33m[\u001b[0m\u001b[0my_col\u001b[0m\u001b[1;33m]\u001b[0m\u001b[1;33m\u001b[0m\u001b[1;33m\u001b[0m\u001b[0m\n\u001b[0;32m      7\u001b[0m \u001b[1;33m\u001b[0m\u001b[0m\n",
      "\u001b[1;31mNameError\u001b[0m: name 'df_explore' is not defined"
     ]
    }
   ],
   "source": [
    "import matplotlib.pyplot as plt\n",
    "\n",
    "x_col = 'medIncome'\n",
    "y_col = target_col\n",
    "x = df_explore[x_col]\n",
    "y = df_explore[y_col]\n",
    "\n",
    "plt.scatter(x, y, alpha=0.5)\n",
    "plt.xlabel(x_col)\n",
    "plt.ylabel(y_col)"
   ]
  },
  {
   "cell_type": "code",
   "execution_count": 83,
   "id": "551d8636",
   "metadata": {},
   "outputs": [
    {
     "ename": "NameError",
     "evalue": "name 'df_explore' is not defined",
     "output_type": "error",
     "traceback": [
      "\u001b[1;31m---------------------------------------------------------------------------\u001b[0m",
      "\u001b[1;31mNameError\u001b[0m                                 Traceback (most recent call last)",
      "\u001b[1;32m~\\AppData\\Local\\Temp\\ipykernel_19016\\3347351225.py\u001b[0m in \u001b[0;36m<module>\u001b[1;34m\u001b[0m\n\u001b[0;32m      3\u001b[0m \u001b[0mx_col\u001b[0m \u001b[1;33m=\u001b[0m \u001b[1;34m'PercentMarried'\u001b[0m\u001b[1;33m\u001b[0m\u001b[1;33m\u001b[0m\u001b[0m\n\u001b[0;32m      4\u001b[0m \u001b[0my_col\u001b[0m \u001b[1;33m=\u001b[0m \u001b[0mtarget_col\u001b[0m\u001b[1;33m\u001b[0m\u001b[1;33m\u001b[0m\u001b[0m\n\u001b[1;32m----> 5\u001b[1;33m \u001b[0mx\u001b[0m \u001b[1;33m=\u001b[0m \u001b[0mdf_explore\u001b[0m\u001b[1;33m[\u001b[0m\u001b[0mx_col\u001b[0m\u001b[1;33m]\u001b[0m\u001b[1;33m\u001b[0m\u001b[1;33m\u001b[0m\u001b[0m\n\u001b[0m\u001b[0;32m      6\u001b[0m \u001b[0my\u001b[0m \u001b[1;33m=\u001b[0m \u001b[0mdf_explore\u001b[0m\u001b[1;33m[\u001b[0m\u001b[0my_col\u001b[0m\u001b[1;33m]\u001b[0m\u001b[1;33m\u001b[0m\u001b[1;33m\u001b[0m\u001b[0m\n\u001b[0;32m      7\u001b[0m \u001b[1;33m\u001b[0m\u001b[0m\n",
      "\u001b[1;31mNameError\u001b[0m: name 'df_explore' is not defined"
     ]
    }
   ],
   "source": [
    "import matplotlib.pyplot as plt\n",
    "\n",
    "x_col = 'PercentMarried'\n",
    "y_col = target_col\n",
    "x = df_explore[x_col]\n",
    "y = df_explore[y_col]\n",
    "\n",
    "plt.scatter(x, y, alpha=0.5)\n",
    "plt.xlabel(x_col)\n",
    "plt.ylabel(y_col)"
   ]
  },
  {
   "cell_type": "code",
   "execution_count": 84,
   "id": "c5f54572",
   "metadata": {},
   "outputs": [
    {
     "ename": "NameError",
     "evalue": "name 'other_states' is not defined",
     "output_type": "error",
     "traceback": [
      "\u001b[1;31m---------------------------------------------------------------------------\u001b[0m",
      "\u001b[1;31mNameError\u001b[0m                                 Traceback (most recent call last)",
      "\u001b[1;32m~\\AppData\\Local\\Temp\\ipykernel_19016\\2426392393.py\u001b[0m in \u001b[0;36m<module>\u001b[1;34m\u001b[0m\n\u001b[1;32m----> 1\u001b[1;33m \u001b[0mdf_new_ohe\u001b[0m\u001b[1;33m[\u001b[0m\u001b[1;34m'State_ Other'\u001b[0m\u001b[1;33m]\u001b[0m \u001b[1;33m=\u001b[0m \u001b[0mdf_new\u001b[0m\u001b[1;33m[\u001b[0m\u001b[1;34m'State'\u001b[0m\u001b[1;33m]\u001b[0m \u001b[1;32min\u001b[0m \u001b[0mother_states\u001b[0m\u001b[1;33m\u001b[0m\u001b[1;33m\u001b[0m\u001b[0m\n\u001b[0m",
      "\u001b[1;31mNameError\u001b[0m: name 'other_states' is not defined"
     ]
    }
   ],
   "source": [
    "df_new_ohe['State_ Other'] = df_new['State'] in other_states"
   ]
  },
  {
   "cell_type": "code",
   "execution_count": 85,
   "id": "08c81294",
   "metadata": {},
   "outputs": [
    {
     "ename": "NameError",
     "evalue": "name 'df_new_ohe' is not defined",
     "output_type": "error",
     "traceback": [
      "\u001b[1;31m---------------------------------------------------------------------------\u001b[0m",
      "\u001b[1;31mNameError\u001b[0m                                 Traceback (most recent call last)",
      "\u001b[1;32m~\\AppData\\Local\\Temp\\ipykernel_19016\\2379313465.py\u001b[0m in \u001b[0;36m<module>\u001b[1;34m\u001b[0m\n\u001b[1;32m----> 1\u001b[1;33m \u001b[0mdf_new_ohe\u001b[0m\u001b[1;33m.\u001b[0m\u001b[0minfo\u001b[0m\u001b[1;33m(\u001b[0m\u001b[1;33m)\u001b[0m\u001b[1;33m\u001b[0m\u001b[1;33m\u001b[0m\u001b[0m\n\u001b[0m",
      "\u001b[1;31mNameError\u001b[0m: name 'df_new_ohe' is not defined"
     ]
    }
   ],
   "source": [
    "df_new_ohe.info()"
   ]
  },
  {
   "cell_type": "code",
   "execution_count": null,
   "id": "c22291d4",
   "metadata": {},
   "outputs": [],
   "source": []
  },
  {
   "cell_type": "code",
   "execution_count": null,
   "id": "3f823030",
   "metadata": {},
   "outputs": [],
   "source": []
  },
  {
   "cell_type": "code",
   "execution_count": null,
   "id": "31ae775c",
   "metadata": {},
   "outputs": [],
   "source": []
  },
  {
   "cell_type": "code",
   "execution_count": null,
   "id": "341c7238",
   "metadata": {},
   "outputs": [],
   "source": []
  },
  {
   "cell_type": "code",
   "execution_count": null,
   "id": "9d88ca24",
   "metadata": {},
   "outputs": [],
   "source": []
  },
  {
   "cell_type": "code",
   "execution_count": null,
   "id": "f4af3704",
   "metadata": {},
   "outputs": [],
   "source": []
  },
  {
   "cell_type": "code",
   "execution_count": null,
   "id": "80e7b9f0",
   "metadata": {},
   "outputs": [],
   "source": []
  },
  {
   "cell_type": "code",
   "execution_count": null,
   "id": "8bf4c54f",
   "metadata": {},
   "outputs": [],
   "source": []
  },
  {
   "cell_type": "code",
   "execution_count": null,
   "id": "0aa85e93",
   "metadata": {},
   "outputs": [],
   "source": []
  },
  {
   "cell_type": "code",
   "execution_count": null,
   "id": "7475819f",
   "metadata": {},
   "outputs": [],
   "source": []
  },
  {
   "cell_type": "code",
   "execution_count": null,
   "id": "5727f4ab",
   "metadata": {},
   "outputs": [],
   "source": []
  },
  {
   "cell_type": "code",
   "execution_count": null,
   "id": "1f7362a3",
   "metadata": {},
   "outputs": [],
   "source": []
  },
  {
   "cell_type": "code",
   "execution_count": null,
   "id": "2c1c5736",
   "metadata": {},
   "outputs": [],
   "source": []
  },
  {
   "cell_type": "code",
   "execution_count": null,
   "id": "2c0e9358",
   "metadata": {},
   "outputs": [],
   "source": []
  },
  {
   "cell_type": "code",
   "execution_count": null,
   "id": "75521426",
   "metadata": {},
   "outputs": [],
   "source": []
  },
  {
   "cell_type": "code",
   "execution_count": null,
   "id": "c5822677",
   "metadata": {},
   "outputs": [],
   "source": []
  },
  {
   "cell_type": "code",
   "execution_count": null,
   "id": "bb74b20e",
   "metadata": {},
   "outputs": [],
   "source": []
  },
  {
   "cell_type": "code",
   "execution_count": null,
   "id": "b43dd834",
   "metadata": {},
   "outputs": [],
   "source": []
  },
  {
   "cell_type": "code",
   "execution_count": null,
   "id": "df504638",
   "metadata": {},
   "outputs": [],
   "source": []
  },
  {
   "cell_type": "code",
   "execution_count": null,
   "id": "bc517b72",
   "metadata": {},
   "outputs": [],
   "source": []
  },
  {
   "cell_type": "code",
   "execution_count": null,
   "id": "a5d89072",
   "metadata": {},
   "outputs": [],
   "source": []
  },
  {
   "cell_type": "code",
   "execution_count": null,
   "id": "b970b275",
   "metadata": {},
   "outputs": [],
   "source": []
  },
  {
   "cell_type": "code",
   "execution_count": null,
   "id": "d320a7b8",
   "metadata": {},
   "outputs": [],
   "source": []
  },
  {
   "cell_type": "code",
   "execution_count": null,
   "id": "e036ef81",
   "metadata": {},
   "outputs": [],
   "source": []
  },
  {
   "cell_type": "code",
   "execution_count": null,
   "id": "baf06b08",
   "metadata": {},
   "outputs": [],
   "source": []
  },
  {
   "cell_type": "code",
   "execution_count": null,
   "id": "a0b35daa",
   "metadata": {},
   "outputs": [],
   "source": []
  },
  {
   "cell_type": "code",
   "execution_count": null,
   "id": "80329ec5",
   "metadata": {},
   "outputs": [],
   "source": []
  },
  {
   "cell_type": "code",
   "execution_count": null,
   "id": "d3912012",
   "metadata": {},
   "outputs": [],
   "source": []
  },
  {
   "cell_type": "code",
   "execution_count": null,
   "id": "325b06ba",
   "metadata": {},
   "outputs": [],
   "source": []
  },
  {
   "cell_type": "code",
   "execution_count": null,
   "id": "5d0079c1",
   "metadata": {},
   "outputs": [],
   "source": []
  },
  {
   "cell_type": "code",
   "execution_count": null,
   "id": "72277813",
   "metadata": {},
   "outputs": [],
   "source": []
  },
  {
   "cell_type": "code",
   "execution_count": null,
   "id": "e4fbee2c",
   "metadata": {},
   "outputs": [],
   "source": []
  },
  {
   "cell_type": "code",
   "execution_count": null,
   "id": "4831a41a",
   "metadata": {},
   "outputs": [],
   "source": []
  },
  {
   "cell_type": "code",
   "execution_count": null,
   "id": "f39d781b",
   "metadata": {},
   "outputs": [],
   "source": []
  },
  {
   "cell_type": "code",
   "execution_count": null,
   "id": "94ff3d21",
   "metadata": {},
   "outputs": [],
   "source": []
  },
  {
   "cell_type": "code",
   "execution_count": null,
   "id": "5af7b956",
   "metadata": {},
   "outputs": [],
   "source": []
  },
  {
   "cell_type": "code",
   "execution_count": null,
   "id": "fa26d3c2",
   "metadata": {},
   "outputs": [],
   "source": []
  },
  {
   "cell_type": "code",
   "execution_count": null,
   "id": "4de8f8b9",
   "metadata": {},
   "outputs": [],
   "source": []
  },
  {
   "cell_type": "code",
   "execution_count": null,
   "id": "3346ac15",
   "metadata": {},
   "outputs": [],
   "source": []
  },
  {
   "cell_type": "code",
   "execution_count": null,
   "id": "900b7ada",
   "metadata": {},
   "outputs": [],
   "source": []
  },
  {
   "cell_type": "code",
   "execution_count": null,
   "id": "7305bc0c",
   "metadata": {},
   "outputs": [],
   "source": []
  },
  {
   "cell_type": "code",
   "execution_count": null,
   "id": "8da9be6e",
   "metadata": {},
   "outputs": [],
   "source": []
  },
  {
   "cell_type": "code",
   "execution_count": null,
   "id": "fd188656",
   "metadata": {},
   "outputs": [],
   "source": []
  },
  {
   "cell_type": "code",
   "execution_count": null,
   "id": "d8dc0189",
   "metadata": {},
   "outputs": [],
   "source": []
  },
  {
   "cell_type": "code",
   "execution_count": null,
   "id": "2e2ea627",
   "metadata": {},
   "outputs": [],
   "source": []
  },
  {
   "cell_type": "code",
   "execution_count": null,
   "id": "28751a9a",
   "metadata": {},
   "outputs": [],
   "source": []
  },
  {
   "cell_type": "code",
   "execution_count": null,
   "id": "74e2b83e",
   "metadata": {},
   "outputs": [],
   "source": []
  },
  {
   "cell_type": "code",
   "execution_count": null,
   "id": "82253543",
   "metadata": {},
   "outputs": [],
   "source": []
  },
  {
   "cell_type": "code",
   "execution_count": null,
   "id": "72949a33",
   "metadata": {},
   "outputs": [],
   "source": []
  },
  {
   "cell_type": "code",
   "execution_count": null,
   "id": "83125469",
   "metadata": {},
   "outputs": [],
   "source": []
  }
 ],
 "metadata": {
  "kernelspec": {
   "display_name": "Python 3 (ipykernel)",
   "language": "python",
   "name": "python3"
  },
  "language_info": {
   "codemirror_mode": {
    "name": "ipython",
    "version": 3
   },
   "file_extension": ".py",
   "mimetype": "text/x-python",
   "name": "python",
   "nbconvert_exporter": "python",
   "pygments_lexer": "ipython3",
   "version": "3.9.13"
  }
 },
 "nbformat": 4,
 "nbformat_minor": 5
}
